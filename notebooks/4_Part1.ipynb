{
  "cells": [
    {
      "cell_type": "code",
      "execution_count": 1,
      "metadata": {
        "colab": {
          "base_uri": "https://localhost:8080/"
        },
        "id": "KsmAdkDEEiFo",
        "outputId": "d8d7a541-d1f1-4d69-f8c7-2f5279f96d13"
      },
      "outputs": [
        {
          "name": "stdout",
          "output_type": "stream",
          "text": [
            "Collecting scikit-multilearn\n",
            "  Downloading scikit_multilearn-0.2.0-py3-none-any.whl.metadata (6.0 kB)\n",
            "Downloading scikit_multilearn-0.2.0-py3-none-any.whl (89 kB)\n",
            "\u001b[2K   \u001b[90m━━━━━━━━━━━━━━━━━━━━━━━━━━━━━━━━━━━━━━━━\u001b[0m \u001b[32m89.4/89.4 kB\u001b[0m \u001b[31m2.4 MB/s\u001b[0m eta \u001b[36m0:00:00\u001b[0m\n",
            "\u001b[?25hInstalling collected packages: scikit-multilearn\n",
            "Successfully installed scikit-multilearn-0.2.0\n"
          ]
        }
      ],
      "source": [
        "import numpy as np\n",
        "import pandas as pd\n",
        "from sklearn.model_selection import train_test_split\n",
        "from sklearn.svm import SVC\n",
        "from sklearn import metrics\n",
        "from sklearn.metrics import accuracy_score, mean_absolute_error,confusion_matrix,classification_report\n",
        "from sklearn.ensemble import RandomForestClassifier\n",
        "import matplotlib.pyplot as plt\n",
        "!pip install scikit-multilearn\n",
        "from sklearn.multioutput import ClassifierChain\n",
        "from skmultilearn.problem_transform import LabelPowerset\n",
        "from sklearn.cluster import KMeans\n",
        "import pickle\n",
        "%matplotlib inline\n",
        "import seaborn as sns\n",
        "from sklearn.model_selection import train_test_split\n",
        "from sklearn.preprocessing import OneHotEncoder"
      ]
    },
    {
      "cell_type": "code",
      "execution_count": 2,
      "metadata": {
        "id": "PJwDVrxuEyGS"
      },
      "outputs": [],
      "source": [
        "df= pd.read_csv(\"/data/3_Data_Clean.csv\")"
      ]
    },
    {
      "cell_type": "code",
      "execution_count": 3,
      "metadata": {
        "colab": {
          "base_uri": "https://localhost:8080/",
          "height": 236
        },
        "id": "nq21fXFaE6bz",
        "outputId": "682e3c06-f59e-44a8-b24a-b3ab545941e2"
      },
      "outputs": [
        {
          "data": {
            "text/html": [
              "<div>\n",
              "<style scoped>\n",
              "    .dataframe tbody tr th:only-of-type {\n",
              "        vertical-align: middle;\n",
              "    }\n",
              "\n",
              "    .dataframe tbody tr th {\n",
              "        vertical-align: top;\n",
              "    }\n",
              "\n",
              "    .dataframe thead th {\n",
              "        text-align: right;\n",
              "    }\n",
              "</style>\n",
              "<table border=\"1\" class=\"dataframe\">\n",
              "  <thead>\n",
              "    <tr style=\"text-align: right;\">\n",
              "      <th></th>\n",
              "      <th>Age</th>\n",
              "      <th>Weight</th>\n",
              "      <th>FCVC</th>\n",
              "      <th>NCP</th>\n",
              "      <th>CH2O</th>\n",
              "      <th>FAF</th>\n",
              "      <th>Gender</th>\n",
              "      <th>family_history_with_overweight</th>\n",
              "      <th>FAVC</th>\n",
              "      <th>CAEC_Always</th>\n",
              "      <th>...</th>\n",
              "      <th>NObeyesdad_Normal_Weight</th>\n",
              "      <th>NObeyesdad_Obesity_Type_I</th>\n",
              "      <th>NObeyesdad_Obesity_Type_II</th>\n",
              "      <th>NObeyesdad_Obesity_Type_III</th>\n",
              "      <th>NObeyesdad_Overweight_Level_I</th>\n",
              "      <th>NObeyesdad_Overweight_Level_II</th>\n",
              "      <th>Age_Group_(13.999, 19.0]</th>\n",
              "      <th>Age_Group_(19.0, 22.0]</th>\n",
              "      <th>Age_Group_(22.0, 26.0]</th>\n",
              "      <th>Age_Group_(26.0, 61.0]</th>\n",
              "    </tr>\n",
              "  </thead>\n",
              "  <tbody>\n",
              "    <tr>\n",
              "      <th>0</th>\n",
              "      <td>0.148936</td>\n",
              "      <td>0.186567</td>\n",
              "      <td>0.5</td>\n",
              "      <td>0.666667</td>\n",
              "      <td>0.5</td>\n",
              "      <td>0.000000</td>\n",
              "      <td>1.0</td>\n",
              "      <td>1.0</td>\n",
              "      <td>0.0</td>\n",
              "      <td>0.0</td>\n",
              "      <td>...</td>\n",
              "      <td>1.0</td>\n",
              "      <td>0.0</td>\n",
              "      <td>0.0</td>\n",
              "      <td>0.0</td>\n",
              "      <td>0.0</td>\n",
              "      <td>0.0</td>\n",
              "      <td>0.0</td>\n",
              "      <td>1.0</td>\n",
              "      <td>0.0</td>\n",
              "      <td>0.0</td>\n",
              "    </tr>\n",
              "    <tr>\n",
              "      <th>1</th>\n",
              "      <td>0.148936</td>\n",
              "      <td>0.126866</td>\n",
              "      <td>1.0</td>\n",
              "      <td>0.666667</td>\n",
              "      <td>1.0</td>\n",
              "      <td>1.000000</td>\n",
              "      <td>1.0</td>\n",
              "      <td>1.0</td>\n",
              "      <td>0.0</td>\n",
              "      <td>0.0</td>\n",
              "      <td>...</td>\n",
              "      <td>1.0</td>\n",
              "      <td>0.0</td>\n",
              "      <td>0.0</td>\n",
              "      <td>0.0</td>\n",
              "      <td>0.0</td>\n",
              "      <td>0.0</td>\n",
              "      <td>0.0</td>\n",
              "      <td>1.0</td>\n",
              "      <td>0.0</td>\n",
              "      <td>0.0</td>\n",
              "    </tr>\n",
              "    <tr>\n",
              "      <th>2</th>\n",
              "      <td>0.191489</td>\n",
              "      <td>0.283582</td>\n",
              "      <td>0.5</td>\n",
              "      <td>0.666667</td>\n",
              "      <td>0.5</td>\n",
              "      <td>0.666667</td>\n",
              "      <td>0.0</td>\n",
              "      <td>1.0</td>\n",
              "      <td>0.0</td>\n",
              "      <td>0.0</td>\n",
              "      <td>...</td>\n",
              "      <td>1.0</td>\n",
              "      <td>0.0</td>\n",
              "      <td>0.0</td>\n",
              "      <td>0.0</td>\n",
              "      <td>0.0</td>\n",
              "      <td>0.0</td>\n",
              "      <td>0.0</td>\n",
              "      <td>0.0</td>\n",
              "      <td>1.0</td>\n",
              "      <td>0.0</td>\n",
              "    </tr>\n",
              "    <tr>\n",
              "      <th>3</th>\n",
              "      <td>0.276596</td>\n",
              "      <td>0.358209</td>\n",
              "      <td>1.0</td>\n",
              "      <td>0.666667</td>\n",
              "      <td>0.5</td>\n",
              "      <td>0.666667</td>\n",
              "      <td>0.0</td>\n",
              "      <td>0.0</td>\n",
              "      <td>0.0</td>\n",
              "      <td>0.0</td>\n",
              "      <td>...</td>\n",
              "      <td>0.0</td>\n",
              "      <td>0.0</td>\n",
              "      <td>0.0</td>\n",
              "      <td>0.0</td>\n",
              "      <td>1.0</td>\n",
              "      <td>0.0</td>\n",
              "      <td>0.0</td>\n",
              "      <td>0.0</td>\n",
              "      <td>0.0</td>\n",
              "      <td>1.0</td>\n",
              "    </tr>\n",
              "    <tr>\n",
              "      <th>4</th>\n",
              "      <td>0.170213</td>\n",
              "      <td>0.379104</td>\n",
              "      <td>0.5</td>\n",
              "      <td>0.000000</td>\n",
              "      <td>0.5</td>\n",
              "      <td>0.000000</td>\n",
              "      <td>0.0</td>\n",
              "      <td>0.0</td>\n",
              "      <td>0.0</td>\n",
              "      <td>0.0</td>\n",
              "      <td>...</td>\n",
              "      <td>0.0</td>\n",
              "      <td>0.0</td>\n",
              "      <td>0.0</td>\n",
              "      <td>0.0</td>\n",
              "      <td>0.0</td>\n",
              "      <td>1.0</td>\n",
              "      <td>0.0</td>\n",
              "      <td>1.0</td>\n",
              "      <td>0.0</td>\n",
              "      <td>0.0</td>\n",
              "    </tr>\n",
              "  </tbody>\n",
              "</table>\n",
              "<p>5 rows × 35 columns</p>\n",
              "</div>"
            ],
            "text/plain": [
              "        Age    Weight  FCVC       NCP  CH2O       FAF  Gender  \\\n",
              "0  0.148936  0.186567   0.5  0.666667   0.5  0.000000     1.0   \n",
              "1  0.148936  0.126866   1.0  0.666667   1.0  1.000000     1.0   \n",
              "2  0.191489  0.283582   0.5  0.666667   0.5  0.666667     0.0   \n",
              "3  0.276596  0.358209   1.0  0.666667   0.5  0.666667     0.0   \n",
              "4  0.170213  0.379104   0.5  0.000000   0.5  0.000000     0.0   \n",
              "\n",
              "   family_history_with_overweight  FAVC  CAEC_Always  ...  \\\n",
              "0                             1.0   0.0          0.0  ...   \n",
              "1                             1.0   0.0          0.0  ...   \n",
              "2                             1.0   0.0          0.0  ...   \n",
              "3                             0.0   0.0          0.0  ...   \n",
              "4                             0.0   0.0          0.0  ...   \n",
              "\n",
              "   NObeyesdad_Normal_Weight  NObeyesdad_Obesity_Type_I  \\\n",
              "0                       1.0                        0.0   \n",
              "1                       1.0                        0.0   \n",
              "2                       1.0                        0.0   \n",
              "3                       0.0                        0.0   \n",
              "4                       0.0                        0.0   \n",
              "\n",
              "   NObeyesdad_Obesity_Type_II  NObeyesdad_Obesity_Type_III  \\\n",
              "0                         0.0                          0.0   \n",
              "1                         0.0                          0.0   \n",
              "2                         0.0                          0.0   \n",
              "3                         0.0                          0.0   \n",
              "4                         0.0                          0.0   \n",
              "\n",
              "   NObeyesdad_Overweight_Level_I  NObeyesdad_Overweight_Level_II  \\\n",
              "0                            0.0                             0.0   \n",
              "1                            0.0                             0.0   \n",
              "2                            0.0                             0.0   \n",
              "3                            1.0                             0.0   \n",
              "4                            0.0                             1.0   \n",
              "\n",
              "   Age_Group_(13.999, 19.0]  Age_Group_(19.0, 22.0]  Age_Group_(22.0, 26.0]  \\\n",
              "0                       0.0                     1.0                     0.0   \n",
              "1                       0.0                     1.0                     0.0   \n",
              "2                       0.0                     0.0                     1.0   \n",
              "3                       0.0                     0.0                     0.0   \n",
              "4                       0.0                     1.0                     0.0   \n",
              "\n",
              "   Age_Group_(26.0, 61.0]  \n",
              "0                     0.0  \n",
              "1                     0.0  \n",
              "2                     0.0  \n",
              "3                     1.0  \n",
              "4                     0.0  \n",
              "\n",
              "[5 rows x 35 columns]"
            ]
          },
          "execution_count": 3,
          "metadata": {},
          "output_type": "execute_result"
        }
      ],
      "source": [
        "df.head()"
      ]
    },
    {
      "cell_type": "code",
      "execution_count": 4,
      "metadata": {
        "colab": {
          "base_uri": "https://localhost:8080/"
        },
        "id": "ANNdwycmOJFr",
        "outputId": "2b47c785-5ad9-4280-a98e-b5c50868c470"
      },
      "outputs": [
        {
          "data": {
            "text/plain": [
              "Index(['Age', 'Weight', 'FCVC', 'NCP', 'CH2O', 'FAF', 'Gender',\n",
              "       'family_history_with_overweight', 'FAVC', 'CAEC_Always',\n",
              "       'CAEC_Frequently', 'CAEC_Sometimes', 'CAEC_no', 'SMOKE', 'SCC',\n",
              "       'CALC_Always', 'CALC_Frequently', 'CALC_Sometimes', 'CALC_no',\n",
              "       'MTRANS_Automobile', 'MTRANS_Bike', 'MTRANS_Motorbike',\n",
              "       'MTRANS_Public_Transportation', 'MTRANS_Walking',\n",
              "       'NObeyesdad_Insufficient_Weight', 'NObeyesdad_Normal_Weight',\n",
              "       'NObeyesdad_Obesity_Type_I', 'NObeyesdad_Obesity_Type_II',\n",
              "       'NObeyesdad_Obesity_Type_III', 'NObeyesdad_Overweight_Level_I',\n",
              "       'NObeyesdad_Overweight_Level_II', 'Age_Group_(13.999, 19.0]',\n",
              "       'Age_Group_(19.0, 22.0]', 'Age_Group_(22.0, 26.0]',\n",
              "       'Age_Group_(26.0, 61.0]'],\n",
              "      dtype='object')"
            ]
          },
          "execution_count": 4,
          "metadata": {},
          "output_type": "execute_result"
        }
      ],
      "source": [
        "df.columns"
      ]
    },
    {
      "cell_type": "code",
      "execution_count": 5,
      "metadata": {
        "id": "NF2WKM8OiuRk"
      },
      "outputs": [],
      "source": [
        "df.rename(columns={ 'Age_Group_(13.999, 19.0]': 'Age_Group_14_19','Age_Group_(19.0, 22.0]' : 'Age_Group_19.0_22.0' , 'Age_Group_(22.0, 26.0]' : 'Age_Group_23.0_26.0',\n",
        "       'Age_Group_(26.0, 61.0]' : 'Age_Group_27.0_61.0'}, inplace=True)"
      ]
    },
    {
      "cell_type": "markdown",
      "metadata": {
        "id": "d7Y0B0mRQnno"
      },
      "source": [
        "## Classifying the people whether they monitor the calorie consumption or not."
      ]
    },
    {
      "cell_type": "code",
      "execution_count": 6,
      "metadata": {
        "id": "ogDHcqD7Q47-"
      },
      "outputs": [],
      "source": [
        "X =  df.drop(columns = ['SCC']).copy()"
      ]
    },
    {
      "cell_type": "code",
      "execution_count": 7,
      "metadata": {
        "id": "hHkn2fRgRHOj"
      },
      "outputs": [],
      "source": [
        "Y = df['SCC']"
      ]
    },
    {
      "cell_type": "markdown",
      "metadata": {
        "id": "NjgMqn1UQvc7"
      },
      "source": [
        "Splitting the dataset into training, testing and validation datasets."
      ]
    },
    {
      "cell_type": "code",
      "execution_count": 8,
      "metadata": {
        "id": "BXkLNEKoRkY0"
      },
      "outputs": [],
      "source": [
        "train_size=0.6"
      ]
    },
    {
      "cell_type": "code",
      "execution_count": 9,
      "metadata": {
        "id": "eC77S729RRqv"
      },
      "outputs": [],
      "source": [
        "X_train, X_rem, y_train, y_rem = train_test_split(X,Y, train_size=0.6, shuffle= True)"
      ]
    },
    {
      "cell_type": "code",
      "execution_count": 10,
      "metadata": {
        "id": "li2JizHNS45d"
      },
      "outputs": [],
      "source": [
        "test_size = 0.5\n",
        "X_valid, X_test, y_valid, y_test = train_test_split(X_rem,y_rem, test_size=0.5, shuffle= True)"
      ]
    },
    {
      "cell_type": "code",
      "execution_count": 11,
      "metadata": {
        "colab": {
          "base_uri": "https://localhost:8080/"
        },
        "id": "0I1LlHQ3TIe_",
        "outputId": "530e5667-8e51-4c03-f7c5-e91fe0ed08de"
      },
      "outputs": [
        {
          "name": "stdout",
          "output_type": "stream",
          "text": [
            "(1266, 34)\n",
            "(1266,)\n",
            "(422, 34)\n",
            "(422,)\n",
            "(423, 34)\n",
            "(423,)\n"
          ]
        },
        {
          "data": {
            "text/plain": [
              "(None, None)"
            ]
          },
          "execution_count": 11,
          "metadata": {},
          "output_type": "execute_result"
        }
      ],
      "source": [
        "print(X_train.shape), print(y_train.shape)\n",
        "print(X_valid.shape), print(y_valid.shape)\n",
        "print(X_test.shape), print(y_test.shape)"
      ]
    },
    {
      "cell_type": "markdown",
      "metadata": {
        "id": "poGWUZChQ3pU"
      },
      "source": [
        "## Using Support Vector Machine for performing binary classification"
      ]
    },
    {
      "cell_type": "code",
      "execution_count": 12,
      "metadata": {
        "colab": {
          "base_uri": "https://localhost:8080/"
        },
        "id": "xDCt3rppTgPA",
        "outputId": "06aff461-3b5f-40c2-c1e8-a68afcc9d37d"
      },
      "outputs": [
        {
          "name": "stdout",
          "output_type": "stream",
          "text": [
            "\n",
            "The accuracy with C:0.10: 0.9597180293174816\n",
            "\n",
            "The validation accuracy with C:0.10: 0.9431372549019608\n",
            "\n",
            "The test accuracy with C:0.10: 0.9503641456582633\n",
            "\n",
            "The accuracy with C:0.25: 0.9597180293174816\n",
            "\n",
            "The validation accuracy with C:0.25: 0.9431372549019608\n",
            "\n",
            "The test accuracy with C:0.25: 0.9503641456582633\n",
            "\n",
            "The accuracy with C:0.50: 0.9597180293174816\n",
            "\n",
            "The validation accuracy with C:0.50: 0.9431372549019608\n",
            "\n",
            "The test accuracy with C:0.50: 0.9503641456582633\n",
            "\n",
            "The accuracy with C:1.00: 0.9597180293174816\n",
            "\n",
            "The validation accuracy with C:1.00: 0.9431372549019608\n",
            "\n",
            "The test accuracy with C:1.00: 0.9456582633053221\n",
            "\n",
            "The accuracy with C:2.00: 0.9597180293174816\n",
            "\n",
            "The validation accuracy with C:2.00: 0.9336694677871149\n",
            "\n",
            "The test accuracy with C:2.00: 0.9432773109243697\n"
          ]
        }
      ],
      "source": [
        "from sklearn.model_selection import cross_val_score\n",
        "c = [0.1, 0.25, 0.5,1,2]\n",
        "for i in c:   \n",
        "  model_soft=SVC(kernel= 'linear',C=i)\n",
        "  model_soft.fit(X_train,y_train)\n",
        "  # calculating training accuracy\n",
        "  accuracies = cross_val_score(estimator = model_soft, X = X_train, y = y_train, cv = 5)\n",
        "  validation_accuracies = cross_val_score(estimator = model_soft, X = X_valid, y = y_valid, cv = 5)\n",
        "  test_accuracies = cross_val_score(estimator = model_soft, X = X_test, y = y_test, cv = 5)\n",
        "  # printing training accuracy\n",
        "  print(\"\\nThe accuracy with C:{:.2f}:\".format(i), accuracies.mean())\n",
        "  print(\"\\nThe validation accuracy with C:{:.2f}:\".format(i), validation_accuracies.mean())\n",
        "  print(\"\\nThe test accuracy with C:{:.2f}:\".format(i), test_accuracies.mean())"
      ]
    },
    {
      "cell_type": "code",
      "execution_count": 13,
      "metadata": {
        "id": "mmEt3yWynxGl"
      },
      "outputs": [],
      "source": [
        "# save the model to disk\n",
        "filename = 'svm_model_1.pkl'\n",
        "pickle.dump(model_soft, open(filename, 'wb'))"
      ]
    },
    {
      "cell_type": "markdown",
      "metadata": {
        "id": "9iF_KdeiRHYA"
      },
      "source": [
        "## Using random forest classifier"
      ]
    },
    {
      "cell_type": "code",
      "execution_count": 13,
      "metadata": {
        "id": "5Jb78c8rWPQ6"
      },
      "outputs": [],
      "source": [
        "rfc = RandomForestClassifier()"
      ]
    },
    {
      "cell_type": "code",
      "execution_count": 14,
      "metadata": {
        "colab": {
          "base_uri": "https://localhost:8080/"
        },
        "id": "fCzKheXmWTET",
        "outputId": "40e856ae-c222-4c67-bc9d-4c6fa957c79f"
      },
      "outputs": [
        {
          "data": {
            "text/html": [
              "<style>#sk-container-id-1 {color: black;background-color: white;}#sk-container-id-1 pre{padding: 0;}#sk-container-id-1 div.sk-toggleable {background-color: white;}#sk-container-id-1 label.sk-toggleable__label {cursor: pointer;display: block;width: 100%;margin-bottom: 0;padding: 0.3em;box-sizing: border-box;text-align: center;}#sk-container-id-1 label.sk-toggleable__label-arrow:before {content: \"▸\";float: left;margin-right: 0.25em;color: #696969;}#sk-container-id-1 label.sk-toggleable__label-arrow:hover:before {color: black;}#sk-container-id-1 div.sk-estimator:hover label.sk-toggleable__label-arrow:before {color: black;}#sk-container-id-1 div.sk-toggleable__content {max-height: 0;max-width: 0;overflow: hidden;text-align: left;background-color: #f0f8ff;}#sk-container-id-1 div.sk-toggleable__content pre {margin: 0.2em;color: black;border-radius: 0.25em;background-color: #f0f8ff;}#sk-container-id-1 input.sk-toggleable__control:checked~div.sk-toggleable__content {max-height: 200px;max-width: 100%;overflow: auto;}#sk-container-id-1 input.sk-toggleable__control:checked~label.sk-toggleable__label-arrow:before {content: \"▾\";}#sk-container-id-1 div.sk-estimator input.sk-toggleable__control:checked~label.sk-toggleable__label {background-color: #d4ebff;}#sk-container-id-1 div.sk-label input.sk-toggleable__control:checked~label.sk-toggleable__label {background-color: #d4ebff;}#sk-container-id-1 input.sk-hidden--visually {border: 0;clip: rect(1px 1px 1px 1px);clip: rect(1px, 1px, 1px, 1px);height: 1px;margin: -1px;overflow: hidden;padding: 0;position: absolute;width: 1px;}#sk-container-id-1 div.sk-estimator {font-family: monospace;background-color: #f0f8ff;border: 1px dotted black;border-radius: 0.25em;box-sizing: border-box;margin-bottom: 0.5em;}#sk-container-id-1 div.sk-estimator:hover {background-color: #d4ebff;}#sk-container-id-1 div.sk-parallel-item::after {content: \"\";width: 100%;border-bottom: 1px solid gray;flex-grow: 1;}#sk-container-id-1 div.sk-label:hover label.sk-toggleable__label {background-color: #d4ebff;}#sk-container-id-1 div.sk-serial::before {content: \"\";position: absolute;border-left: 1px solid gray;box-sizing: border-box;top: 0;bottom: 0;left: 50%;z-index: 0;}#sk-container-id-1 div.sk-serial {display: flex;flex-direction: column;align-items: center;background-color: white;padding-right: 0.2em;padding-left: 0.2em;position: relative;}#sk-container-id-1 div.sk-item {position: relative;z-index: 1;}#sk-container-id-1 div.sk-parallel {display: flex;align-items: stretch;justify-content: center;background-color: white;position: relative;}#sk-container-id-1 div.sk-item::before, #sk-container-id-1 div.sk-parallel-item::before {content: \"\";position: absolute;border-left: 1px solid gray;box-sizing: border-box;top: 0;bottom: 0;left: 50%;z-index: -1;}#sk-container-id-1 div.sk-parallel-item {display: flex;flex-direction: column;z-index: 1;position: relative;background-color: white;}#sk-container-id-1 div.sk-parallel-item:first-child::after {align-self: flex-end;width: 50%;}#sk-container-id-1 div.sk-parallel-item:last-child::after {align-self: flex-start;width: 50%;}#sk-container-id-1 div.sk-parallel-item:only-child::after {width: 0;}#sk-container-id-1 div.sk-dashed-wrapped {border: 1px dashed gray;margin: 0 0.4em 0.5em 0.4em;box-sizing: border-box;padding-bottom: 0.4em;background-color: white;}#sk-container-id-1 div.sk-label label {font-family: monospace;font-weight: bold;display: inline-block;line-height: 1.2em;}#sk-container-id-1 div.sk-label-container {text-align: center;}#sk-container-id-1 div.sk-container {/* jupyter's `normalize.less` sets `[hidden] { display: none; }` but bootstrap.min.css set `[hidden] { display: none !important; }` so we also need the `!important` here to be able to override the default hidden behavior on the sphinx rendered scikit-learn.org. See: https://github.com/scikit-learn/scikit-learn/issues/21755 */display: inline-block !important;position: relative;}#sk-container-id-1 div.sk-text-repr-fallback {display: none;}</style><div id=\"sk-container-id-1\" class=\"sk-top-container\"><div class=\"sk-text-repr-fallback\"><pre>RandomForestClassifier()</pre><b>In a Jupyter environment, please rerun this cell to show the HTML representation or trust the notebook. <br />On GitHub, the HTML representation is unable to render, please try loading this page with nbviewer.org.</b></div><div class=\"sk-container\" hidden><div class=\"sk-item\"><div class=\"sk-estimator sk-toggleable\"><input class=\"sk-toggleable__control sk-hidden--visually\" id=\"sk-estimator-id-1\" type=\"checkbox\" checked><label for=\"sk-estimator-id-1\" class=\"sk-toggleable__label sk-toggleable__label-arrow\">RandomForestClassifier</label><div class=\"sk-toggleable__content\"><pre>RandomForestClassifier()</pre></div></div></div></div></div>"
            ],
            "text/plain": [
              "RandomForestClassifier()"
            ]
          },
          "execution_count": 14,
          "metadata": {},
          "output_type": "execute_result"
        }
      ],
      "source": [
        "rfc.fit(X_train,y_train)"
      ]
    },
    {
      "cell_type": "code",
      "execution_count": 15,
      "metadata": {
        "id": "SbKgEx0_WU1h"
      },
      "outputs": [],
      "source": [
        "# model assessment\n",
        "pred_test_rfc = rfc.predict(X_test)\n",
        "pred_valid_rfc = rfc.predict(X_valid)\n",
        "pred_train_rfc = rfc.predict(X_train)"
      ]
    },
    {
      "cell_type": "code",
      "execution_count": 16,
      "metadata": {
        "colab": {
          "base_uri": "https://localhost:8080/"
        },
        "id": "KEgiXx6PXHBG",
        "outputId": "c7adec68-28bd-4bef-9513-c9d668323b5a"
      },
      "outputs": [
        {
          "name": "stdout",
          "output_type": "stream",
          "text": [
            "Train Accuracy:  1.0\n",
            "Validation Accuracy:  0.966824644549763\n",
            "Test Accuraccy:  0.9598108747044918\n"
          ]
        }
      ],
      "source": [
        "print('Train Accuracy: ', accuracy_score(y_train, pred_train_rfc))\n",
        "print('Validation Accuracy: ', accuracy_score(y_valid, pred_valid_rfc))\n",
        "print('Test Accuraccy: ', accuracy_score(y_test, pred_test_rfc))"
      ]
    },
    {
      "cell_type": "markdown",
      "metadata": {
        "id": "0H4JpzoPROdT"
      },
      "source": [
        "## Using XGBoost classifier"
      ]
    },
    {
      "cell_type": "code",
      "execution_count": 18,
      "metadata": {
        "id": "12bfpShMcM9F"
      },
      "outputs": [],
      "source": [
        "import time\n",
        "from xgboost import XGBClassifier"
      ]
    },
    {
      "cell_type": "code",
      "execution_count": 19,
      "metadata": {
        "id": "xhgeUdA6a1uN"
      },
      "outputs": [],
      "source": [
        "xgbmodel = XGBClassifier(early_stopping=10,n_estimators=50, random_state=0)"
      ]
    },
    {
      "cell_type": "code",
      "execution_count": 20,
      "metadata": {
        "colab": {
          "base_uri": "https://localhost:8080/"
        },
        "id": "JPhTHDo8a8GJ",
        "outputId": "1a198031-802b-46db-a972-0ae0dbc49c07"
      },
      "outputs": [
        {
          "name": "stderr",
          "output_type": "stream",
          "text": [
            "/Users/harman/miniconda3/lib/python3.9/site-packages/xgboost/core.py:160: UserWarning: [16:52:06] WARNING: /Users/runner/miniforge3/conda-bld/xgboost-split_1705650162823/work/src/learner.cc:742: \n",
            "Parameters: { \"early_stopping\" } are not used.\n",
            "\n",
            "  warnings.warn(smsg, UserWarning)\n"
          ]
        },
        {
          "data": {
            "text/html": [
              "<style>#sk-container-id-2 {color: black;background-color: white;}#sk-container-id-2 pre{padding: 0;}#sk-container-id-2 div.sk-toggleable {background-color: white;}#sk-container-id-2 label.sk-toggleable__label {cursor: pointer;display: block;width: 100%;margin-bottom: 0;padding: 0.3em;box-sizing: border-box;text-align: center;}#sk-container-id-2 label.sk-toggleable__label-arrow:before {content: \"▸\";float: left;margin-right: 0.25em;color: #696969;}#sk-container-id-2 label.sk-toggleable__label-arrow:hover:before {color: black;}#sk-container-id-2 div.sk-estimator:hover label.sk-toggleable__label-arrow:before {color: black;}#sk-container-id-2 div.sk-toggleable__content {max-height: 0;max-width: 0;overflow: hidden;text-align: left;background-color: #f0f8ff;}#sk-container-id-2 div.sk-toggleable__content pre {margin: 0.2em;color: black;border-radius: 0.25em;background-color: #f0f8ff;}#sk-container-id-2 input.sk-toggleable__control:checked~div.sk-toggleable__content {max-height: 200px;max-width: 100%;overflow: auto;}#sk-container-id-2 input.sk-toggleable__control:checked~label.sk-toggleable__label-arrow:before {content: \"▾\";}#sk-container-id-2 div.sk-estimator input.sk-toggleable__control:checked~label.sk-toggleable__label {background-color: #d4ebff;}#sk-container-id-2 div.sk-label input.sk-toggleable__control:checked~label.sk-toggleable__label {background-color: #d4ebff;}#sk-container-id-2 input.sk-hidden--visually {border: 0;clip: rect(1px 1px 1px 1px);clip: rect(1px, 1px, 1px, 1px);height: 1px;margin: -1px;overflow: hidden;padding: 0;position: absolute;width: 1px;}#sk-container-id-2 div.sk-estimator {font-family: monospace;background-color: #f0f8ff;border: 1px dotted black;border-radius: 0.25em;box-sizing: border-box;margin-bottom: 0.5em;}#sk-container-id-2 div.sk-estimator:hover {background-color: #d4ebff;}#sk-container-id-2 div.sk-parallel-item::after {content: \"\";width: 100%;border-bottom: 1px solid gray;flex-grow: 1;}#sk-container-id-2 div.sk-label:hover label.sk-toggleable__label {background-color: #d4ebff;}#sk-container-id-2 div.sk-serial::before {content: \"\";position: absolute;border-left: 1px solid gray;box-sizing: border-box;top: 0;bottom: 0;left: 50%;z-index: 0;}#sk-container-id-2 div.sk-serial {display: flex;flex-direction: column;align-items: center;background-color: white;padding-right: 0.2em;padding-left: 0.2em;position: relative;}#sk-container-id-2 div.sk-item {position: relative;z-index: 1;}#sk-container-id-2 div.sk-parallel {display: flex;align-items: stretch;justify-content: center;background-color: white;position: relative;}#sk-container-id-2 div.sk-item::before, #sk-container-id-2 div.sk-parallel-item::before {content: \"\";position: absolute;border-left: 1px solid gray;box-sizing: border-box;top: 0;bottom: 0;left: 50%;z-index: -1;}#sk-container-id-2 div.sk-parallel-item {display: flex;flex-direction: column;z-index: 1;position: relative;background-color: white;}#sk-container-id-2 div.sk-parallel-item:first-child::after {align-self: flex-end;width: 50%;}#sk-container-id-2 div.sk-parallel-item:last-child::after {align-self: flex-start;width: 50%;}#sk-container-id-2 div.sk-parallel-item:only-child::after {width: 0;}#sk-container-id-2 div.sk-dashed-wrapped {border: 1px dashed gray;margin: 0 0.4em 0.5em 0.4em;box-sizing: border-box;padding-bottom: 0.4em;background-color: white;}#sk-container-id-2 div.sk-label label {font-family: monospace;font-weight: bold;display: inline-block;line-height: 1.2em;}#sk-container-id-2 div.sk-label-container {text-align: center;}#sk-container-id-2 div.sk-container {/* jupyter's `normalize.less` sets `[hidden] { display: none; }` but bootstrap.min.css set `[hidden] { display: none !important; }` so we also need the `!important` here to be able to override the default hidden behavior on the sphinx rendered scikit-learn.org. See: https://github.com/scikit-learn/scikit-learn/issues/21755 */display: inline-block !important;position: relative;}#sk-container-id-2 div.sk-text-repr-fallback {display: none;}</style><div id=\"sk-container-id-2\" class=\"sk-top-container\"><div class=\"sk-text-repr-fallback\"><pre>XGBClassifier(base_score=None, booster=None, callbacks=None,\n",
              "              colsample_bylevel=None, colsample_bynode=None,\n",
              "              colsample_bytree=None, device=None, early_stopping=10,\n",
              "              early_stopping_rounds=None, enable_categorical=False,\n",
              "              eval_metric=None, feature_types=None, gamma=None,\n",
              "              grow_policy=None, importance_type=None,\n",
              "              interaction_constraints=None, learning_rate=None, max_bin=None,\n",
              "              max_cat_threshold=None, max_cat_to_onehot=None,\n",
              "              max_delta_step=None, max_depth=None, max_leaves=None,\n",
              "              min_child_weight=None, missing=nan, monotone_constraints=None,\n",
              "              multi_strategy=None, n_estimators=50, n_jobs=None,\n",
              "              num_parallel_tree=None, ...)</pre><b>In a Jupyter environment, please rerun this cell to show the HTML representation or trust the notebook. <br />On GitHub, the HTML representation is unable to render, please try loading this page with nbviewer.org.</b></div><div class=\"sk-container\" hidden><div class=\"sk-item\"><div class=\"sk-estimator sk-toggleable\"><input class=\"sk-toggleable__control sk-hidden--visually\" id=\"sk-estimator-id-2\" type=\"checkbox\" checked><label for=\"sk-estimator-id-2\" class=\"sk-toggleable__label sk-toggleable__label-arrow\">XGBClassifier</label><div class=\"sk-toggleable__content\"><pre>XGBClassifier(base_score=None, booster=None, callbacks=None,\n",
              "              colsample_bylevel=None, colsample_bynode=None,\n",
              "              colsample_bytree=None, device=None, early_stopping=10,\n",
              "              early_stopping_rounds=None, enable_categorical=False,\n",
              "              eval_metric=None, feature_types=None, gamma=None,\n",
              "              grow_policy=None, importance_type=None,\n",
              "              interaction_constraints=None, learning_rate=None, max_bin=None,\n",
              "              max_cat_threshold=None, max_cat_to_onehot=None,\n",
              "              max_delta_step=None, max_depth=None, max_leaves=None,\n",
              "              min_child_weight=None, missing=nan, monotone_constraints=None,\n",
              "              multi_strategy=None, n_estimators=50, n_jobs=None,\n",
              "              num_parallel_tree=None, ...)</pre></div></div></div></div></div>"
            ],
            "text/plain": [
              "XGBClassifier(base_score=None, booster=None, callbacks=None,\n",
              "              colsample_bylevel=None, colsample_bynode=None,\n",
              "              colsample_bytree=None, device=None, early_stopping=10,\n",
              "              early_stopping_rounds=None, enable_categorical=False,\n",
              "              eval_metric=None, feature_types=None, gamma=None,\n",
              "              grow_policy=None, importance_type=None,\n",
              "              interaction_constraints=None, learning_rate=None, max_bin=None,\n",
              "              max_cat_threshold=None, max_cat_to_onehot=None,\n",
              "              max_delta_step=None, max_depth=None, max_leaves=None,\n",
              "              min_child_weight=None, missing=nan, monotone_constraints=None,\n",
              "              multi_strategy=None, n_estimators=50, n_jobs=None,\n",
              "              num_parallel_tree=None, ...)"
            ]
          },
          "execution_count": 20,
          "metadata": {},
          "output_type": "execute_result"
        }
      ],
      "source": [
        "# fit the model\n",
        "xgbmodel.fit(X_train,y_train)"
      ]
    },
    {
      "cell_type": "code",
      "execution_count": 21,
      "metadata": {
        "id": "R_FOh9Ihkj5C"
      },
      "outputs": [],
      "source": [
        "# model assessment\n",
        "pred_test = xgbmodel.predict(X_test)\n",
        "pred_train = xgbmodel.predict(X_train)\n",
        "pred_validation = xgbmodel.predict(X_valid)"
      ]
    },
    {
      "cell_type": "code",
      "execution_count": 22,
      "metadata": {
        "colab": {
          "base_uri": "https://localhost:8080/"
        },
        "id": "pDJjnH0kk3U8",
        "outputId": "67c378e9-ff77-4282-e2ce-5571fde69ffe"
      },
      "outputs": [
        {
          "name": "stdout",
          "output_type": "stream",
          "text": [
            "Train Accuracy:  1.0\n",
            "Validation Accuraccy:  0.9644549763033176\n",
            "Test Accuraccy:  0.9598108747044918\n"
          ]
        }
      ],
      "source": [
        "print('Train Accuracy: ', accuracy_score(y_train, pred_train))\n",
        "print('Validation Accuraccy: ', accuracy_score(y_valid, pred_validation))\n",
        "print('Test Accuraccy: ', accuracy_score(y_test, pred_test))"
      ]
    },
    {
      "cell_type": "code",
      "execution_count": 23,
      "metadata": {
        "id": "zOx0ZnW9hvry"
      },
      "outputs": [],
      "source": [
        "model_new = XGBClassifier(n_estimators=50, random_state=0,reg_lambda=1)"
      ]
    },
    {
      "cell_type": "code",
      "execution_count": 24,
      "metadata": {
        "id": "7SQeERendKpU"
      },
      "outputs": [],
      "source": [
        "# define the eval set and metric\n",
        "eval_set = [(X_train,y_train), (X_valid, y_valid)]\n",
        "eval_metric = [\"mlogloss\",\"error\"]"
      ]
    },
    {
      "cell_type": "code",
      "execution_count": 25,
      "metadata": {
        "colab": {
          "base_uri": "https://localhost:8080/"
        },
        "id": "52AHc62gbW64",
        "outputId": "dbc4f70f-0f48-421f-90b6-bbe3ddf32b0c"
      },
      "outputs": [
        {
          "name": "stderr",
          "output_type": "stream",
          "text": [
            "/Users/harman/miniconda3/lib/python3.9/site-packages/xgboost/sklearn.py:889: UserWarning: `eval_metric` in `fit` method is deprecated for better compatibility with scikit-learn, use `eval_metric` in constructor or`set_params` instead.\n",
            "  warnings.warn(\n"
          ]
        },
        {
          "data": {
            "text/html": [
              "<style>#sk-container-id-3 {color: black;background-color: white;}#sk-container-id-3 pre{padding: 0;}#sk-container-id-3 div.sk-toggleable {background-color: white;}#sk-container-id-3 label.sk-toggleable__label {cursor: pointer;display: block;width: 100%;margin-bottom: 0;padding: 0.3em;box-sizing: border-box;text-align: center;}#sk-container-id-3 label.sk-toggleable__label-arrow:before {content: \"▸\";float: left;margin-right: 0.25em;color: #696969;}#sk-container-id-3 label.sk-toggleable__label-arrow:hover:before {color: black;}#sk-container-id-3 div.sk-estimator:hover label.sk-toggleable__label-arrow:before {color: black;}#sk-container-id-3 div.sk-toggleable__content {max-height: 0;max-width: 0;overflow: hidden;text-align: left;background-color: #f0f8ff;}#sk-container-id-3 div.sk-toggleable__content pre {margin: 0.2em;color: black;border-radius: 0.25em;background-color: #f0f8ff;}#sk-container-id-3 input.sk-toggleable__control:checked~div.sk-toggleable__content {max-height: 200px;max-width: 100%;overflow: auto;}#sk-container-id-3 input.sk-toggleable__control:checked~label.sk-toggleable__label-arrow:before {content: \"▾\";}#sk-container-id-3 div.sk-estimator input.sk-toggleable__control:checked~label.sk-toggleable__label {background-color: #d4ebff;}#sk-container-id-3 div.sk-label input.sk-toggleable__control:checked~label.sk-toggleable__label {background-color: #d4ebff;}#sk-container-id-3 input.sk-hidden--visually {border: 0;clip: rect(1px 1px 1px 1px);clip: rect(1px, 1px, 1px, 1px);height: 1px;margin: -1px;overflow: hidden;padding: 0;position: absolute;width: 1px;}#sk-container-id-3 div.sk-estimator {font-family: monospace;background-color: #f0f8ff;border: 1px dotted black;border-radius: 0.25em;box-sizing: border-box;margin-bottom: 0.5em;}#sk-container-id-3 div.sk-estimator:hover {background-color: #d4ebff;}#sk-container-id-3 div.sk-parallel-item::after {content: \"\";width: 100%;border-bottom: 1px solid gray;flex-grow: 1;}#sk-container-id-3 div.sk-label:hover label.sk-toggleable__label {background-color: #d4ebff;}#sk-container-id-3 div.sk-serial::before {content: \"\";position: absolute;border-left: 1px solid gray;box-sizing: border-box;top: 0;bottom: 0;left: 50%;z-index: 0;}#sk-container-id-3 div.sk-serial {display: flex;flex-direction: column;align-items: center;background-color: white;padding-right: 0.2em;padding-left: 0.2em;position: relative;}#sk-container-id-3 div.sk-item {position: relative;z-index: 1;}#sk-container-id-3 div.sk-parallel {display: flex;align-items: stretch;justify-content: center;background-color: white;position: relative;}#sk-container-id-3 div.sk-item::before, #sk-container-id-3 div.sk-parallel-item::before {content: \"\";position: absolute;border-left: 1px solid gray;box-sizing: border-box;top: 0;bottom: 0;left: 50%;z-index: -1;}#sk-container-id-3 div.sk-parallel-item {display: flex;flex-direction: column;z-index: 1;position: relative;background-color: white;}#sk-container-id-3 div.sk-parallel-item:first-child::after {align-self: flex-end;width: 50%;}#sk-container-id-3 div.sk-parallel-item:last-child::after {align-self: flex-start;width: 50%;}#sk-container-id-3 div.sk-parallel-item:only-child::after {width: 0;}#sk-container-id-3 div.sk-dashed-wrapped {border: 1px dashed gray;margin: 0 0.4em 0.5em 0.4em;box-sizing: border-box;padding-bottom: 0.4em;background-color: white;}#sk-container-id-3 div.sk-label label {font-family: monospace;font-weight: bold;display: inline-block;line-height: 1.2em;}#sk-container-id-3 div.sk-label-container {text-align: center;}#sk-container-id-3 div.sk-container {/* jupyter's `normalize.less` sets `[hidden] { display: none; }` but bootstrap.min.css set `[hidden] { display: none !important; }` so we also need the `!important` here to be able to override the default hidden behavior on the sphinx rendered scikit-learn.org. See: https://github.com/scikit-learn/scikit-learn/issues/21755 */display: inline-block !important;position: relative;}#sk-container-id-3 div.sk-text-repr-fallback {display: none;}</style><div id=\"sk-container-id-3\" class=\"sk-top-container\"><div class=\"sk-text-repr-fallback\"><pre>XGBClassifier(base_score=None, booster=None, callbacks=None,\n",
              "              colsample_bylevel=None, colsample_bynode=None,\n",
              "              colsample_bytree=None, device=None, early_stopping_rounds=None,\n",
              "              enable_categorical=False, eval_metric=None, feature_types=None,\n",
              "              gamma=None, grow_policy=None, importance_type=None,\n",
              "              interaction_constraints=None, learning_rate=None, max_bin=None,\n",
              "              max_cat_threshold=None, max_cat_to_onehot=None,\n",
              "              max_delta_step=None, max_depth=None, max_leaves=None,\n",
              "              min_child_weight=None, missing=nan, monotone_constraints=None,\n",
              "              multi_strategy=None, n_estimators=50, n_jobs=None,\n",
              "              num_parallel_tree=None, random_state=0, ...)</pre><b>In a Jupyter environment, please rerun this cell to show the HTML representation or trust the notebook. <br />On GitHub, the HTML representation is unable to render, please try loading this page with nbviewer.org.</b></div><div class=\"sk-container\" hidden><div class=\"sk-item\"><div class=\"sk-estimator sk-toggleable\"><input class=\"sk-toggleable__control sk-hidden--visually\" id=\"sk-estimator-id-3\" type=\"checkbox\" checked><label for=\"sk-estimator-id-3\" class=\"sk-toggleable__label sk-toggleable__label-arrow\">XGBClassifier</label><div class=\"sk-toggleable__content\"><pre>XGBClassifier(base_score=None, booster=None, callbacks=None,\n",
              "              colsample_bylevel=None, colsample_bynode=None,\n",
              "              colsample_bytree=None, device=None, early_stopping_rounds=None,\n",
              "              enable_categorical=False, eval_metric=None, feature_types=None,\n",
              "              gamma=None, grow_policy=None, importance_type=None,\n",
              "              interaction_constraints=None, learning_rate=None, max_bin=None,\n",
              "              max_cat_threshold=None, max_cat_to_onehot=None,\n",
              "              max_delta_step=None, max_depth=None, max_leaves=None,\n",
              "              min_child_weight=None, missing=nan, monotone_constraints=None,\n",
              "              multi_strategy=None, n_estimators=50, n_jobs=None,\n",
              "              num_parallel_tree=None, random_state=0, ...)</pre></div></div></div></div></div>"
            ],
            "text/plain": [
              "XGBClassifier(base_score=None, booster=None, callbacks=None,\n",
              "              colsample_bylevel=None, colsample_bynode=None,\n",
              "              colsample_bytree=None, device=None, early_stopping_rounds=None,\n",
              "              enable_categorical=False, eval_metric=None, feature_types=None,\n",
              "              gamma=None, grow_policy=None, importance_type=None,\n",
              "              interaction_constraints=None, learning_rate=None, max_bin=None,\n",
              "              max_cat_threshold=None, max_cat_to_onehot=None,\n",
              "              max_delta_step=None, max_depth=None, max_leaves=None,\n",
              "              min_child_weight=None, missing=nan, monotone_constraints=None,\n",
              "              multi_strategy=None, n_estimators=50, n_jobs=None,\n",
              "              num_parallel_tree=None, random_state=0, ...)"
            ]
          },
          "execution_count": 25,
          "metadata": {},
          "output_type": "execute_result"
        }
      ],
      "source": [
        "model_new.fit(X_train,y_train, eval_set=eval_set, eval_metric= [\"logloss\", \"mae\"], verbose=False)"
      ]
    },
    {
      "cell_type": "code",
      "execution_count": 26,
      "metadata": {
        "id": "dZFcH0K7YEt2"
      },
      "outputs": [],
      "source": [
        "# retrieve performance metrics\n",
        "results =  model_new.evals_result()\n"
      ]
    },
    {
      "cell_type": "code",
      "execution_count": 27,
      "metadata": {
        "colab": {
          "base_uri": "https://localhost:8080/",
          "height": 545
        },
        "id": "N-rgcRBJYWEy",
        "outputId": "2269de82-e9db-4054-d09c-98edc8d79c3e"
      },
      "outputs": [
        {
          "data": {
            "image/png": "[encoded data removed]",
            "text/plain": [
              "<Figure size 640x480 with 1 Axes>"
            ]
          },
          "metadata": {},
          "output_type": "display_data"
        },
        {
          "data": {
            "image/png": "[encoded data removed]",
            "text/plain": [
              "<Figure size 640x480 with 1 Axes>"
            ]
          },
          "metadata": {},
          "output_type": "display_data"
        }
      ],
      "source": [
        "epochs = len(results['validation_0']['mae'])\n",
        "x_axis = range(0, epochs)\n",
        "# plot log loss\n",
        "fig, ax = plt.subplots()\n",
        "ax.plot(x_axis, results['validation_0']['logloss'], label='Train')\n",
        "ax.plot(x_axis, results['validation_1']['logloss'], label='Validation')\n",
        "ax.legend()\n",
        "plt.ylabel('Log Loss')\n",
        "plt.title('XGBoost Log Loss')\n",
        "plt.show()\n",
        "# plot classification error\n",
        "fig, ax = plt.subplots()\n",
        "ax.plot(x_axis, results['validation_0']['mae'], label='Train')\n",
        "ax.plot(x_axis, results['validation_1']['mae'], label='Validation')\n",
        "ax.legend()\n",
        "plt.ylabel('Classification Error')\n",
        "plt.title('XGBoost Classification Error')\n",
        "plt.show()"
      ]
    },
    {
      "cell_type": "code",
      "execution_count": 28,
      "metadata": {
        "id": "2PYnigLEY2Xs"
      },
      "outputs": [],
      "source": [
        "# save the model to disk\n",
        "filename = 'xgb_model_1.pkl'\n",
        "pickle.dump(model_new, open(filename, 'wb'))"
      ]
    },
    {
      "cell_type": "markdown",
      "metadata": {
        "id": "3QRkb4i96P8M"
      },
      "source": [
        "## Unsupervised Algorithms: KMeans"
      ]
    },
    {
      "cell_type": "code",
      "execution_count": 28,
      "metadata": {
        "id": "TJurK47A2iLU"
      },
      "outputs": [],
      "source": [
        "Kmean = KMeans(n_clusters=2)"
      ]
    },
    {
      "cell_type": "code",
      "execution_count": 29,
      "metadata": {
        "colab": {
          "base_uri": "https://localhost:8080/"
        },
        "id": "5i2nT5dE2fEO",
        "outputId": "06cdeed7-581c-4202-e5a2-5b8f93e563ee"
      },
      "outputs": [
        {
          "name": "stderr",
          "output_type": "stream",
          "text": [
            "/Users/harman/miniconda3/lib/python3.9/site-packages/sklearn/cluster/_kmeans.py:870: FutureWarning: The default value of `n_init` will change from 10 to 'auto' in 1.4. Set the value of `n_init` explicitly to suppress the warning\n",
            "  warnings.warn(\n"
          ]
        },
        {
          "data": {
            "text/html": [
              "<style>#sk-container-id-4 {color: black;background-color: white;}#sk-container-id-4 pre{padding: 0;}#sk-container-id-4 div.sk-toggleable {background-color: white;}#sk-container-id-4 label.sk-toggleable__label {cursor: pointer;display: block;width: 100%;margin-bottom: 0;padding: 0.3em;box-sizing: border-box;text-align: center;}#sk-container-id-4 label.sk-toggleable__label-arrow:before {content: \"▸\";float: left;margin-right: 0.25em;color: #696969;}#sk-container-id-4 label.sk-toggleable__label-arrow:hover:before {color: black;}#sk-container-id-4 div.sk-estimator:hover label.sk-toggleable__label-arrow:before {color: black;}#sk-container-id-4 div.sk-toggleable__content {max-height: 0;max-width: 0;overflow: hidden;text-align: left;background-color: #f0f8ff;}#sk-container-id-4 div.sk-toggleable__content pre {margin: 0.2em;color: black;border-radius: 0.25em;background-color: #f0f8ff;}#sk-container-id-4 input.sk-toggleable__control:checked~div.sk-toggleable__content {max-height: 200px;max-width: 100%;overflow: auto;}#sk-container-id-4 input.sk-toggleable__control:checked~label.sk-toggleable__label-arrow:before {content: \"▾\";}#sk-container-id-4 div.sk-estimator input.sk-toggleable__control:checked~label.sk-toggleable__label {background-color: #d4ebff;}#sk-container-id-4 div.sk-label input.sk-toggleable__control:checked~label.sk-toggleable__label {background-color: #d4ebff;}#sk-container-id-4 input.sk-hidden--visually {border: 0;clip: rect(1px 1px 1px 1px);clip: rect(1px, 1px, 1px, 1px);height: 1px;margin: -1px;overflow: hidden;padding: 0;position: absolute;width: 1px;}#sk-container-id-4 div.sk-estimator {font-family: monospace;background-color: #f0f8ff;border: 1px dotted black;border-radius: 0.25em;box-sizing: border-box;margin-bottom: 0.5em;}#sk-container-id-4 div.sk-estimator:hover {background-color: #d4ebff;}#sk-container-id-4 div.sk-parallel-item::after {content: \"\";width: 100%;border-bottom: 1px solid gray;flex-grow: 1;}#sk-container-id-4 div.sk-label:hover label.sk-toggleable__label {background-color: #d4ebff;}#sk-container-id-4 div.sk-serial::before {content: \"\";position: absolute;border-left: 1px solid gray;box-sizing: border-box;top: 0;bottom: 0;left: 50%;z-index: 0;}#sk-container-id-4 div.sk-serial {display: flex;flex-direction: column;align-items: center;background-color: white;padding-right: 0.2em;padding-left: 0.2em;position: relative;}#sk-container-id-4 div.sk-item {position: relative;z-index: 1;}#sk-container-id-4 div.sk-parallel {display: flex;align-items: stretch;justify-content: center;background-color: white;position: relative;}#sk-container-id-4 div.sk-item::before, #sk-container-id-4 div.sk-parallel-item::before {content: \"\";position: absolute;border-left: 1px solid gray;box-sizing: border-box;top: 0;bottom: 0;left: 50%;z-index: -1;}#sk-container-id-4 div.sk-parallel-item {display: flex;flex-direction: column;z-index: 1;position: relative;background-color: white;}#sk-container-id-4 div.sk-parallel-item:first-child::after {align-self: flex-end;width: 50%;}#sk-container-id-4 div.sk-parallel-item:last-child::after {align-self: flex-start;width: 50%;}#sk-container-id-4 div.sk-parallel-item:only-child::after {width: 0;}#sk-container-id-4 div.sk-dashed-wrapped {border: 1px dashed gray;margin: 0 0.4em 0.5em 0.4em;box-sizing: border-box;padding-bottom: 0.4em;background-color: white;}#sk-container-id-4 div.sk-label label {font-family: monospace;font-weight: bold;display: inline-block;line-height: 1.2em;}#sk-container-id-4 div.sk-label-container {text-align: center;}#sk-container-id-4 div.sk-container {/* jupyter's `normalize.less` sets `[hidden] { display: none; }` but bootstrap.min.css set `[hidden] { display: none !important; }` so we also need the `!important` here to be able to override the default hidden behavior on the sphinx rendered scikit-learn.org. See: https://github.com/scikit-learn/scikit-learn/issues/21755 */display: inline-block !important;position: relative;}#sk-container-id-4 div.sk-text-repr-fallback {display: none;}</style><div id=\"sk-container-id-4\" class=\"sk-top-container\"><div class=\"sk-text-repr-fallback\"><pre>KMeans(n_clusters=2)</pre><b>In a Jupyter environment, please rerun this cell to show the HTML representation or trust the notebook. <br />On GitHub, the HTML representation is unable to render, please try loading this page with nbviewer.org.</b></div><div class=\"sk-container\" hidden><div class=\"sk-item\"><div class=\"sk-estimator sk-toggleable\"><input class=\"sk-toggleable__control sk-hidden--visually\" id=\"sk-estimator-id-4\" type=\"checkbox\" checked><label for=\"sk-estimator-id-4\" class=\"sk-toggleable__label sk-toggleable__label-arrow\">KMeans</label><div class=\"sk-toggleable__content\"><pre>KMeans(n_clusters=2)</pre></div></div></div></div></div>"
            ],
            "text/plain": [
              "KMeans(n_clusters=2)"
            ]
          },
          "execution_count": 29,
          "metadata": {},
          "output_type": "execute_result"
        }
      ],
      "source": [
        "Kmean.fit(X_train)"
      ]
    },
    {
      "cell_type": "code",
      "execution_count": 30,
      "metadata": {
        "colab": {
          "base_uri": "https://localhost:8080/"
        },
        "id": "k1HIk2C_2-SN",
        "outputId": "863de82c-4553-480e-ecc4-df3a7779d56f"
      },
      "outputs": [
        {
          "data": {
            "text/plain": [
              "array([[ 3.72302834e-01,  3.46112980e-01,  6.64170595e-01,\n",
              "         5.63136101e-01,  4.57467832e-01,  3.31496624e-01,\n",
              "         3.85159011e-01,  8.97526502e-01,  9.29328622e-01,\n",
              "         2.47349823e-02,  5.65371025e-02,  9.04593640e-01,\n",
              "         1.41342756e-02,  2.82685512e-02,  6.50521303e-19,\n",
              "         7.06713781e-02,  6.04240283e-01,  3.25088339e-01,\n",
              "         9.75265018e-01,  3.53356890e-03,  7.06713781e-03,\n",
              "         6.66133815e-16,  1.41342756e-02,  7.77385159e-02,\n",
              "         1.13074205e-01,  2.82685512e-01,  1.80212014e-01,\n",
              "        -8.32667268e-17,  1.44876325e-01,  2.01413428e-01,\n",
              "         1.02473498e-01,  4.24028269e-02,  9.89399293e-02,\n",
              "         7.56183746e-01],\n",
              "       [ 1.69974676e-01,  3.59008467e-01,  7.21284386e-01,\n",
              "         5.53842003e-01,  5.04704492e-01,  3.37494458e-01,\n",
              "         5.34079349e-01,  8.01627670e-01,  8.67751780e-01,\n",
              "         2.64496439e-02,  1.25127162e-01,  8.19938962e-01,\n",
              "         2.84842319e-02,  2.33977620e-02,  1.01729400e-03,\n",
              "         2.23804680e-02,  6.91759919e-01,  2.84842319e-01,\n",
              "         1.22124533e-15,  4.06917599e-03,  4.06917599e-03,\n",
              "         9.56256358e-01,  3.56052899e-02,  1.35300102e-01,\n",
              "         1.41403866e-01,  1.54628688e-01,  1.27161750e-01,\n",
              "         2.00406918e-01,  1.30213632e-01,  1.10885046e-01,\n",
              "         2.93997965e-01,  3.23499491e-01,  3.07222787e-01,\n",
              "         7.52797558e-02]])"
            ]
          },
          "execution_count": 30,
          "metadata": {},
          "output_type": "execute_result"
        }
      ],
      "source": [
        "Kmean.cluster_centers_"
      ]
    },
    {
      "cell_type": "code",
      "execution_count": 31,
      "metadata": {
        "colab": {
          "base_uri": "https://localhost:8080/"
        },
        "id": "jmMnrmkQ3P9Z",
        "outputId": "435e4ec4-7c56-478d-d14e-17202965c62b"
      },
      "outputs": [
        {
          "data": {
            "text/plain": [
              "array([1, 1, 1, ..., 0, 1, 1], dtype=int32)"
            ]
          },
          "execution_count": 31,
          "metadata": {},
          "output_type": "execute_result"
        }
      ],
      "source": [
        "Kmean.labels_"
      ]
    },
    {
      "cell_type": "code",
      "execution_count": 32,
      "metadata": {
        "id": "U012v_UK5JnK"
      },
      "outputs": [],
      "source": [
        "# model assessment\n",
        "pred_testk = Kmean.predict(X_test)\n",
        "pred_traink = Kmean.predict(X_train)\n",
        "pred_validationk = Kmean.predict(X_valid)"
      ]
    },
    {
      "cell_type": "code",
      "execution_count": 33,
      "metadata": {
        "colab": {
          "base_uri": "https://localhost:8080/"
        },
        "id": "Lp-6jgeg59Zv",
        "outputId": "fb7e0fed-aa24-4a1d-d4df-c9e1a3bda6ae"
      },
      "outputs": [
        {
          "name": "stdout",
          "output_type": "stream",
          "text": [
            "Train Accuracy:  0.2480252764612954\n",
            "Validation Accuraccy:  0.2843601895734597\n",
            "Test Accuraccy:  0.23404255319148937\n"
          ]
        }
      ],
      "source": [
        "print('Train Accuracy: ', accuracy_score(y_train, pred_traink))\n",
        "print('Validation Accuraccy: ', accuracy_score(y_valid, pred_validationk))\n",
        "print('Test Accuraccy: ', accuracy_score(y_test, pred_testk))"
      ]
    },
    {
      "cell_type": "markdown",
      "metadata": {
        "id": "aK_LFLwLlSvF"
      },
      "source": [
        "Classification of the dataset into the 4 age groups"
      ]
    },
    {
      "cell_type": "code",
      "execution_count": 34,
      "metadata": {
        "colab": {
          "base_uri": "https://localhost:8080/"
        },
        "id": "AEId0Z2OcWFY",
        "outputId": "42c422b3-5fd3-4eb7-b47b-be1afc059686"
      },
      "outputs": [
        {
          "data": {
            "text/plain": [
              "Index(['Age', 'Weight', 'FCVC', 'NCP', 'CH2O', 'FAF', 'Gender',\n",
              "       'family_history_with_overweight', 'FAVC', 'CAEC_Always',\n",
              "       'CAEC_Frequently', 'CAEC_Sometimes', 'CAEC_no', 'SMOKE', 'SCC',\n",
              "       'CALC_Always', 'CALC_Frequently', 'CALC_Sometimes', 'CALC_no',\n",
              "       'MTRANS_Automobile', 'MTRANS_Bike', 'MTRANS_Motorbike',\n",
              "       'MTRANS_Public_Transportation', 'MTRANS_Walking',\n",
              "       'NObeyesdad_Insufficient_Weight', 'NObeyesdad_Normal_Weight',\n",
              "       'NObeyesdad_Obesity_Type_I', 'NObeyesdad_Obesity_Type_II',\n",
              "       'NObeyesdad_Obesity_Type_III', 'NObeyesdad_Overweight_Level_I',\n",
              "       'NObeyesdad_Overweight_Level_II', 'Age_Group_14_19',\n",
              "       'Age_Group_19.0_22.0', 'Age_Group_23.0_26.0', 'Age_Group_27.0_61.0'],\n",
              "      dtype='object')"
            ]
          },
          "execution_count": 34,
          "metadata": {},
          "output_type": "execute_result"
        }
      ],
      "source": [
        "df.columns"
      ]
    },
    {
      "cell_type": "code",
      "execution_count": 35,
      "metadata": {
        "id": "uKad7UVCuau3"
      },
      "outputs": [],
      "source": [
        "X2 =  df.drop(columns = ['Age_Group_14_19',\n",
        "       'Age_Group_19.0_22.0', 'Age_Group_23.0_26.0', 'Age_Group_27.0_61.0']).copy()"
      ]
    },
    {
      "cell_type": "code",
      "execution_count": 36,
      "metadata": {
        "id": "4BaedrtYujXm"
      },
      "outputs": [],
      "source": [
        "Y2 = df[['Age_Group_14_19',\n",
        "       'Age_Group_19.0_22.0', 'Age_Group_23.0_26.0', 'Age_Group_27.0_61.0']]"
      ]
    },
    {
      "cell_type": "markdown",
      "metadata": {
        "id": "GNH4Mgeo6q1P"
      },
      "source": [
        "Splitting the dataset into Training set, validation set and Testing set"
      ]
    },
    {
      "cell_type": "code",
      "execution_count": 37,
      "metadata": {
        "id": "XNg3D-N7yfrP"
      },
      "outputs": [],
      "source": [
        "train_size2=0.6"
      ]
    },
    {
      "cell_type": "code",
      "execution_count": 38,
      "metadata": {
        "id": "_cnmQLxXymNl"
      },
      "outputs": [],
      "source": [
        "X_train2, X_rem2, y_train2, y_rem2 = train_test_split(X2,Y2, train_size=0.6, shuffle= True)"
      ]
    },
    {
      "cell_type": "code",
      "execution_count": 39,
      "metadata": {
        "id": "LljxLrxzyt2C"
      },
      "outputs": [],
      "source": [
        "test_size = 0.5\n",
        "X_valid2, X_test2, y_valid2, y_test2 = train_test_split(X_rem2,y_rem2, test_size=0.5, shuffle= True)"
      ]
    },
    {
      "cell_type": "markdown",
      "metadata": {
        "id": "wbJMrDEi6xIx"
      },
      "source": [
        "## Classifier Chains of Naive Bayes Algorithm"
      ]
    },
    {
      "cell_type": "code",
      "execution_count": 40,
      "metadata": {
        "id": "uarI9DV-usci"
      },
      "outputs": [],
      "source": [
        "from sklearn.naive_bayes import GaussianNB"
      ]
    },
    {
      "cell_type": "code",
      "execution_count": 41,
      "metadata": {
        "id": "fD-W4GjUuwqc"
      },
      "outputs": [],
      "source": [
        "classifier = ClassifierChain(GaussianNB())"
      ]
    },
    {
      "cell_type": "code",
      "execution_count": 42,
      "metadata": {
        "colab": {
          "base_uri": "https://localhost:8080/"
        },
        "id": "rX6oEfcGwr9I",
        "outputId": "f2189716-3701-4ebe-fc52-54dc3c0fd098"
      },
      "outputs": [
        {
          "data": {
            "text/html": [
              "<style>#sk-container-id-5 {color: black;background-color: white;}#sk-container-id-5 pre{padding: 0;}#sk-container-id-5 div.sk-toggleable {background-color: white;}#sk-container-id-5 label.sk-toggleable__label {cursor: pointer;display: block;width: 100%;margin-bottom: 0;padding: 0.3em;box-sizing: border-box;text-align: center;}#sk-container-id-5 label.sk-toggleable__label-arrow:before {content: \"▸\";float: left;margin-right: 0.25em;color: #696969;}#sk-container-id-5 label.sk-toggleable__label-arrow:hover:before {color: black;}#sk-container-id-5 div.sk-estimator:hover label.sk-toggleable__label-arrow:before {color: black;}#sk-container-id-5 div.sk-toggleable__content {max-height: 0;max-width: 0;overflow: hidden;text-align: left;background-color: #f0f8ff;}#sk-container-id-5 div.sk-toggleable__content pre {margin: 0.2em;color: black;border-radius: 0.25em;background-color: #f0f8ff;}#sk-container-id-5 input.sk-toggleable__control:checked~div.sk-toggleable__content {max-height: 200px;max-width: 100%;overflow: auto;}#sk-container-id-5 input.sk-toggleable__control:checked~label.sk-toggleable__label-arrow:before {content: \"▾\";}#sk-container-id-5 div.sk-estimator input.sk-toggleable__control:checked~label.sk-toggleable__label {background-color: #d4ebff;}#sk-container-id-5 div.sk-label input.sk-toggleable__control:checked~label.sk-toggleable__label {background-color: #d4ebff;}#sk-container-id-5 input.sk-hidden--visually {border: 0;clip: rect(1px 1px 1px 1px);clip: rect(1px, 1px, 1px, 1px);height: 1px;margin: -1px;overflow: hidden;padding: 0;position: absolute;width: 1px;}#sk-container-id-5 div.sk-estimator {font-family: monospace;background-color: #f0f8ff;border: 1px dotted black;border-radius: 0.25em;box-sizing: border-box;margin-bottom: 0.5em;}#sk-container-id-5 div.sk-estimator:hover {background-color: #d4ebff;}#sk-container-id-5 div.sk-parallel-item::after {content: \"\";width: 100%;border-bottom: 1px solid gray;flex-grow: 1;}#sk-container-id-5 div.sk-label:hover label.sk-toggleable__label {background-color: #d4ebff;}#sk-container-id-5 div.sk-serial::before {content: \"\";position: absolute;border-left: 1px solid gray;box-sizing: border-box;top: 0;bottom: 0;left: 50%;z-index: 0;}#sk-container-id-5 div.sk-serial {display: flex;flex-direction: column;align-items: center;background-color: white;padding-right: 0.2em;padding-left: 0.2em;position: relative;}#sk-container-id-5 div.sk-item {position: relative;z-index: 1;}#sk-container-id-5 div.sk-parallel {display: flex;align-items: stretch;justify-content: center;background-color: white;position: relative;}#sk-container-id-5 div.sk-item::before, #sk-container-id-5 div.sk-parallel-item::before {content: \"\";position: absolute;border-left: 1px solid gray;box-sizing: border-box;top: 0;bottom: 0;left: 50%;z-index: -1;}#sk-container-id-5 div.sk-parallel-item {display: flex;flex-direction: column;z-index: 1;position: relative;background-color: white;}#sk-container-id-5 div.sk-parallel-item:first-child::after {align-self: flex-end;width: 50%;}#sk-container-id-5 div.sk-parallel-item:last-child::after {align-self: flex-start;width: 50%;}#sk-container-id-5 div.sk-parallel-item:only-child::after {width: 0;}#sk-container-id-5 div.sk-dashed-wrapped {border: 1px dashed gray;margin: 0 0.4em 0.5em 0.4em;box-sizing: border-box;padding-bottom: 0.4em;background-color: white;}#sk-container-id-5 div.sk-label label {font-family: monospace;font-weight: bold;display: inline-block;line-height: 1.2em;}#sk-container-id-5 div.sk-label-container {text-align: center;}#sk-container-id-5 div.sk-container {/* jupyter's `normalize.less` sets `[hidden] { display: none; }` but bootstrap.min.css set `[hidden] { display: none !important; }` so we also need the `!important` here to be able to override the default hidden behavior on the sphinx rendered scikit-learn.org. See: https://github.com/scikit-learn/scikit-learn/issues/21755 */display: inline-block !important;position: relative;}#sk-container-id-5 div.sk-text-repr-fallback {display: none;}</style><div id=\"sk-container-id-5\" class=\"sk-top-container\"><div class=\"sk-text-repr-fallback\"><pre>ClassifierChain(base_estimator=GaussianNB())</pre><b>In a Jupyter environment, please rerun this cell to show the HTML representation or trust the notebook. <br />On GitHub, the HTML representation is unable to render, please try loading this page with nbviewer.org.</b></div><div class=\"sk-container\" hidden><div class=\"sk-item sk-dashed-wrapped\"><div class=\"sk-label-container\"><div class=\"sk-label sk-toggleable\"><input class=\"sk-toggleable__control sk-hidden--visually\" id=\"sk-estimator-id-5\" type=\"checkbox\" ><label for=\"sk-estimator-id-5\" class=\"sk-toggleable__label sk-toggleable__label-arrow\">ClassifierChain</label><div class=\"sk-toggleable__content\"><pre>ClassifierChain(base_estimator=GaussianNB())</pre></div></div></div><div class=\"sk-parallel\"><div class=\"sk-parallel-item\"><div class=\"sk-item\"><div class=\"sk-label-container\"><div class=\"sk-label sk-toggleable\"><input class=\"sk-toggleable__control sk-hidden--visually\" id=\"sk-estimator-id-6\" type=\"checkbox\" ><label for=\"sk-estimator-id-6\" class=\"sk-toggleable__label sk-toggleable__label-arrow\">base_estimator: GaussianNB</label><div class=\"sk-toggleable__content\"><pre>GaussianNB()</pre></div></div></div><div class=\"sk-serial\"><div class=\"sk-item\"><div class=\"sk-estimator sk-toggleable\"><input class=\"sk-toggleable__control sk-hidden--visually\" id=\"sk-estimator-id-7\" type=\"checkbox\" ><label for=\"sk-estimator-id-7\" class=\"sk-toggleable__label sk-toggleable__label-arrow\">GaussianNB</label><div class=\"sk-toggleable__content\"><pre>GaussianNB()</pre></div></div></div></div></div></div></div></div></div></div>"
            ],
            "text/plain": [
              "ClassifierChain(base_estimator=GaussianNB())"
            ]
          },
          "execution_count": 42,
          "metadata": {},
          "output_type": "execute_result"
        }
      ],
      "source": [
        "classifier.fit(X_train2, y_train2)"
      ]
    },
    {
      "cell_type": "code",
      "execution_count": 43,
      "metadata": {
        "id": "I1FoLcd2w1P9"
      },
      "outputs": [],
      "source": [
        "predictions = classifier.predict(X_test2)"
      ]
    },
    {
      "cell_type": "code",
      "execution_count": 44,
      "metadata": {
        "id": "8B-gTfWLxvOU"
      },
      "outputs": [],
      "source": [
        "train_predictions = classifier.predict(X_train2)"
      ]
    },
    {
      "cell_type": "code",
      "execution_count": 45,
      "metadata": {
        "id": "NnVVGY7ny2xp"
      },
      "outputs": [],
      "source": [
        "validation_predictions = classifier.predict(X_valid2)"
      ]
    },
    {
      "cell_type": "code",
      "execution_count": 46,
      "metadata": {
        "colab": {
          "base_uri": "https://localhost:8080/"
        },
        "id": "ml6TswTRxr-x",
        "outputId": "c25794d8-2d76-4951-93be-48719428af7b"
      },
      "outputs": [
        {
          "name": "stdout",
          "output_type": "stream",
          "text": [
            "Train Accuracy:  0.5703001579778831\n"
          ]
        }
      ],
      "source": [
        "print('Train Accuracy: ', accuracy_score(y_train2, train_predictions))"
      ]
    },
    {
      "cell_type": "code",
      "execution_count": 47,
      "metadata": {
        "colab": {
          "base_uri": "https://localhost:8080/"
        },
        "id": "6HkMO6zlw23s",
        "outputId": "11696c5b-b82b-4dc2-80e4-086b5279cc8c"
      },
      "outputs": [
        {
          "name": "stdout",
          "output_type": "stream",
          "text": [
            "Test Accuracy:  0.5697399527186762\n"
          ]
        }
      ],
      "source": [
        "print('Test Accuracy: ', accuracy_score(y_test2,predictions))"
      ]
    },
    {
      "cell_type": "code",
      "execution_count": 48,
      "metadata": {
        "colab": {
          "base_uri": "https://localhost:8080/"
        },
        "id": "flXzsWRzzEZk",
        "outputId": "a682f47b-a1a3-42d0-bf56-9937ce6c2bc2"
      },
      "outputs": [
        {
          "name": "stdout",
          "output_type": "stream",
          "text": [
            "Test Accuracy:  0.5710900473933649\n"
          ]
        }
      ],
      "source": [
        "print('Test Accuracy: ', accuracy_score(y_valid2,validation_predictions))"
      ]
    },
    {
      "cell_type": "markdown",
      "metadata": {
        "id": "nN-jXQKp61lc"
      },
      "source": [
        "## Random Forest Classifier using labelpower set"
      ]
    },
    {
      "cell_type": "code",
      "execution_count": 49,
      "metadata": {
        "id": "CPW_EMkUwmlN"
      },
      "outputs": [],
      "source": [
        "classifierrfc = LabelPowerset(\n",
        "    classifier = RandomForestClassifier(),\n",
        "    require_dense = [False, True]\n",
        ")"
      ]
    },
    {
      "cell_type": "code",
      "execution_count": 50,
      "metadata": {
        "colab": {
          "base_uri": "https://localhost:8080/"
        },
        "id": "sNbOppJCw76L",
        "outputId": "45efaa3e-3f1d-4645-f9c5-d5c00b10e5a5"
      },
      "outputs": [
        {
          "data": {
            "text/html": [
              "<style>#sk-container-id-6 {color: black;background-color: white;}#sk-container-id-6 pre{padding: 0;}#sk-container-id-6 div.sk-toggleable {background-color: white;}#sk-container-id-6 label.sk-toggleable__label {cursor: pointer;display: block;width: 100%;margin-bottom: 0;padding: 0.3em;box-sizing: border-box;text-align: center;}#sk-container-id-6 label.sk-toggleable__label-arrow:before {content: \"▸\";float: left;margin-right: 0.25em;color: #696969;}#sk-container-id-6 label.sk-toggleable__label-arrow:hover:before {color: black;}#sk-container-id-6 div.sk-estimator:hover label.sk-toggleable__label-arrow:before {color: black;}#sk-container-id-6 div.sk-toggleable__content {max-height: 0;max-width: 0;overflow: hidden;text-align: left;background-color: #f0f8ff;}#sk-container-id-6 div.sk-toggleable__content pre {margin: 0.2em;color: black;border-radius: 0.25em;background-color: #f0f8ff;}#sk-container-id-6 input.sk-toggleable__control:checked~div.sk-toggleable__content {max-height: 200px;max-width: 100%;overflow: auto;}#sk-container-id-6 input.sk-toggleable__control:checked~label.sk-toggleable__label-arrow:before {content: \"▾\";}#sk-container-id-6 div.sk-estimator input.sk-toggleable__control:checked~label.sk-toggleable__label {background-color: #d4ebff;}#sk-container-id-6 div.sk-label input.sk-toggleable__control:checked~label.sk-toggleable__label {background-color: #d4ebff;}#sk-container-id-6 input.sk-hidden--visually {border: 0;clip: rect(1px 1px 1px 1px);clip: rect(1px, 1px, 1px, 1px);height: 1px;margin: -1px;overflow: hidden;padding: 0;position: absolute;width: 1px;}#sk-container-id-6 div.sk-estimator {font-family: monospace;background-color: #f0f8ff;border: 1px dotted black;border-radius: 0.25em;box-sizing: border-box;margin-bottom: 0.5em;}#sk-container-id-6 div.sk-estimator:hover {background-color: #d4ebff;}#sk-container-id-6 div.sk-parallel-item::after {content: \"\";width: 100%;border-bottom: 1px solid gray;flex-grow: 1;}#sk-container-id-6 div.sk-label:hover label.sk-toggleable__label {background-color: #d4ebff;}#sk-container-id-6 div.sk-serial::before {content: \"\";position: absolute;border-left: 1px solid gray;box-sizing: border-box;top: 0;bottom: 0;left: 50%;z-index: 0;}#sk-container-id-6 div.sk-serial {display: flex;flex-direction: column;align-items: center;background-color: white;padding-right: 0.2em;padding-left: 0.2em;position: relative;}#sk-container-id-6 div.sk-item {position: relative;z-index: 1;}#sk-container-id-6 div.sk-parallel {display: flex;align-items: stretch;justify-content: center;background-color: white;position: relative;}#sk-container-id-6 div.sk-item::before, #sk-container-id-6 div.sk-parallel-item::before {content: \"\";position: absolute;border-left: 1px solid gray;box-sizing: border-box;top: 0;bottom: 0;left: 50%;z-index: -1;}#sk-container-id-6 div.sk-parallel-item {display: flex;flex-direction: column;z-index: 1;position: relative;background-color: white;}#sk-container-id-6 div.sk-parallel-item:first-child::after {align-self: flex-end;width: 50%;}#sk-container-id-6 div.sk-parallel-item:last-child::after {align-self: flex-start;width: 50%;}#sk-container-id-6 div.sk-parallel-item:only-child::after {width: 0;}#sk-container-id-6 div.sk-dashed-wrapped {border: 1px dashed gray;margin: 0 0.4em 0.5em 0.4em;box-sizing: border-box;padding-bottom: 0.4em;background-color: white;}#sk-container-id-6 div.sk-label label {font-family: monospace;font-weight: bold;display: inline-block;line-height: 1.2em;}#sk-container-id-6 div.sk-label-container {text-align: center;}#sk-container-id-6 div.sk-container {/* jupyter's `normalize.less` sets `[hidden] { display: none; }` but bootstrap.min.css set `[hidden] { display: none !important; }` so we also need the `!important` here to be able to override the default hidden behavior on the sphinx rendered scikit-learn.org. See: https://github.com/scikit-learn/scikit-learn/issues/21755 */display: inline-block !important;position: relative;}#sk-container-id-6 div.sk-text-repr-fallback {display: none;}</style><div id=\"sk-container-id-6\" class=\"sk-top-container\"><div class=\"sk-text-repr-fallback\"><pre>LabelPowerset(classifier=RandomForestClassifier(), require_dense=[False, True])</pre><b>In a Jupyter environment, please rerun this cell to show the HTML representation or trust the notebook. <br />On GitHub, the HTML representation is unable to render, please try loading this page with nbviewer.org.</b></div><div class=\"sk-container\" hidden><div class=\"sk-item sk-dashed-wrapped\"><div class=\"sk-label-container\"><div class=\"sk-label sk-toggleable\"><input class=\"sk-toggleable__control sk-hidden--visually\" id=\"sk-estimator-id-8\" type=\"checkbox\" ><label for=\"sk-estimator-id-8\" class=\"sk-toggleable__label sk-toggleable__label-arrow\">LabelPowerset</label><div class=\"sk-toggleable__content\"><pre>LabelPowerset(classifier=RandomForestClassifier(), require_dense=[False, True])</pre></div></div></div><div class=\"sk-parallel\"><div class=\"sk-parallel-item\"><div class=\"sk-item\"><div class=\"sk-label-container\"><div class=\"sk-label sk-toggleable\"><input class=\"sk-toggleable__control sk-hidden--visually\" id=\"sk-estimator-id-9\" type=\"checkbox\" ><label for=\"sk-estimator-id-9\" class=\"sk-toggleable__label sk-toggleable__label-arrow\">classifier: RandomForestClassifier</label><div class=\"sk-toggleable__content\"><pre>RandomForestClassifier()</pre></div></div></div><div class=\"sk-serial\"><div class=\"sk-item\"><div class=\"sk-estimator sk-toggleable\"><input class=\"sk-toggleable__control sk-hidden--visually\" id=\"sk-estimator-id-10\" type=\"checkbox\" ><label for=\"sk-estimator-id-10\" class=\"sk-toggleable__label sk-toggleable__label-arrow\">RandomForestClassifier</label><div class=\"sk-toggleable__content\"><pre>RandomForestClassifier()</pre></div></div></div></div></div></div></div></div></div></div>"
            ],
            "text/plain": [
              "LabelPowerset(classifier=RandomForestClassifier(), require_dense=[False, True])"
            ]
          },
          "execution_count": 50,
          "metadata": {},
          "output_type": "execute_result"
        }
      ],
      "source": [
        "classifierrfc.fit(X_train2, y_train2)"
      ]
    },
    {
      "cell_type": "code",
      "execution_count": 51,
      "metadata": {
        "id": "02dwAnOazRJ7"
      },
      "outputs": [],
      "source": [
        "y_predvalidation = classifierrfc.predict(X_valid2)"
      ]
    },
    {
      "cell_type": "code",
      "execution_count": 52,
      "metadata": {
        "id": "W0ECZSjcxKYi"
      },
      "outputs": [],
      "source": [
        "y_pred = classifierrfc.predict(X_test2)"
      ]
    },
    {
      "cell_type": "code",
      "execution_count": 53,
      "metadata": {
        "id": "igPPflqxyEad"
      },
      "outputs": [],
      "source": [
        "y_predtrain = classifierrfc.predict(X_train2)"
      ]
    },
    {
      "cell_type": "code",
      "execution_count": 54,
      "metadata": {
        "colab": {
          "base_uri": "https://localhost:8080/"
        },
        "id": "LtGL5DPnxalC",
        "outputId": "dd53ba48-faaf-4348-9eec-93b8e7a715cf"
      },
      "outputs": [
        {
          "name": "stdout",
          "output_type": "stream",
          "text": [
            "the test accuracy: 0.9929078014184397\n"
          ]
        }
      ],
      "source": [
        "print('the test accuracy:', accuracy_score(y_test2,y_pred))"
      ]
    },
    {
      "cell_type": "code",
      "execution_count": 55,
      "metadata": {
        "colab": {
          "base_uri": "https://localhost:8080/"
        },
        "id": "jNsTAVEkyOJN",
        "outputId": "865b1dd9-c239-48e3-ca4c-ad5fd1e81e95"
      },
      "outputs": [
        {
          "name": "stdout",
          "output_type": "stream",
          "text": [
            "the train accuracy: 1.0\n"
          ]
        }
      ],
      "source": [
        "print('the train accuracy:', accuracy_score(y_train2,y_predtrain))"
      ]
    },
    {
      "cell_type": "code",
      "execution_count": 56,
      "metadata": {
        "colab": {
          "base_uri": "https://localhost:8080/"
        },
        "id": "ynD_XxmVzZpn",
        "outputId": "c5710c7a-bdbd-422e-fea7-f916c70f7753"
      },
      "outputs": [
        {
          "name": "stdout",
          "output_type": "stream",
          "text": [
            "the validation accuracy: 0.9928909952606635\n"
          ]
        }
      ],
      "source": [
        "print('the validation accuracy:', accuracy_score(y_valid2,y_predvalidation))"
      ]
    },
    {
      "cell_type": "markdown",
      "metadata": {
        "id": "azxV5O5XPaOW"
      },
      "source": [
        "## Classification of People based on Obesity Level "
      ]
    },
    {
      "cell_type": "code",
      "execution_count": 57,
      "metadata": {
        "id": "_pLjiJ6FPaOW",
        "outputId": "51be49f5-010d-4d1c-8b66-7097a8ff59ba"
      },
      "outputs": [
        {
          "data": {
            "text/html": [
              "<div>\n",
              "<style scoped>\n",
              "    .dataframe tbody tr th:only-of-type {\n",
              "        vertical-align: middle;\n",
              "    }\n",
              "\n",
              "    .dataframe tbody tr th {\n",
              "        vertical-align: top;\n",
              "    }\n",
              "\n",
              "    .dataframe thead th {\n",
              "        text-align: right;\n",
              "    }\n",
              "</style>\n",
              "<table border=\"1\" class=\"dataframe\">\n",
              "  <thead>\n",
              "    <tr style=\"text-align: right;\">\n",
              "      <th></th>\n",
              "      <th>Age</th>\n",
              "      <th>Weight</th>\n",
              "      <th>FCVC</th>\n",
              "      <th>NCP</th>\n",
              "      <th>CH2O</th>\n",
              "      <th>FAF</th>\n",
              "      <th>Gender</th>\n",
              "      <th>family_history_with_overweight</th>\n",
              "      <th>FAVC</th>\n",
              "      <th>CAEC_Always</th>\n",
              "      <th>...</th>\n",
              "      <th>NObeyesdad_Normal_Weight</th>\n",
              "      <th>NObeyesdad_Obesity_Type_I</th>\n",
              "      <th>NObeyesdad_Obesity_Type_II</th>\n",
              "      <th>NObeyesdad_Obesity_Type_III</th>\n",
              "      <th>NObeyesdad_Overweight_Level_I</th>\n",
              "      <th>NObeyesdad_Overweight_Level_II</th>\n",
              "      <th>Age_Group_(13.999, 19.0]</th>\n",
              "      <th>Age_Group_(19.0, 22.0]</th>\n",
              "      <th>Age_Group_(22.0, 26.0]</th>\n",
              "      <th>Age_Group_(26.0, 61.0]</th>\n",
              "    </tr>\n",
              "  </thead>\n",
              "  <tbody>\n",
              "    <tr>\n",
              "      <th>0</th>\n",
              "      <td>0.148936</td>\n",
              "      <td>0.186567</td>\n",
              "      <td>0.5</td>\n",
              "      <td>0.666667</td>\n",
              "      <td>0.5</td>\n",
              "      <td>0.000000</td>\n",
              "      <td>1.0</td>\n",
              "      <td>1.0</td>\n",
              "      <td>0.0</td>\n",
              "      <td>0.0</td>\n",
              "      <td>...</td>\n",
              "      <td>1.0</td>\n",
              "      <td>0.0</td>\n",
              "      <td>0.0</td>\n",
              "      <td>0.0</td>\n",
              "      <td>0.0</td>\n",
              "      <td>0.0</td>\n",
              "      <td>0.0</td>\n",
              "      <td>1.0</td>\n",
              "      <td>0.0</td>\n",
              "      <td>0.0</td>\n",
              "    </tr>\n",
              "    <tr>\n",
              "      <th>1</th>\n",
              "      <td>0.148936</td>\n",
              "      <td>0.126866</td>\n",
              "      <td>1.0</td>\n",
              "      <td>0.666667</td>\n",
              "      <td>1.0</td>\n",
              "      <td>1.000000</td>\n",
              "      <td>1.0</td>\n",
              "      <td>1.0</td>\n",
              "      <td>0.0</td>\n",
              "      <td>0.0</td>\n",
              "      <td>...</td>\n",
              "      <td>1.0</td>\n",
              "      <td>0.0</td>\n",
              "      <td>0.0</td>\n",
              "      <td>0.0</td>\n",
              "      <td>0.0</td>\n",
              "      <td>0.0</td>\n",
              "      <td>0.0</td>\n",
              "      <td>1.0</td>\n",
              "      <td>0.0</td>\n",
              "      <td>0.0</td>\n",
              "    </tr>\n",
              "    <tr>\n",
              "      <th>2</th>\n",
              "      <td>0.191489</td>\n",
              "      <td>0.283582</td>\n",
              "      <td>0.5</td>\n",
              "      <td>0.666667</td>\n",
              "      <td>0.5</td>\n",
              "      <td>0.666667</td>\n",
              "      <td>0.0</td>\n",
              "      <td>1.0</td>\n",
              "      <td>0.0</td>\n",
              "      <td>0.0</td>\n",
              "      <td>...</td>\n",
              "      <td>1.0</td>\n",
              "      <td>0.0</td>\n",
              "      <td>0.0</td>\n",
              "      <td>0.0</td>\n",
              "      <td>0.0</td>\n",
              "      <td>0.0</td>\n",
              "      <td>0.0</td>\n",
              "      <td>0.0</td>\n",
              "      <td>1.0</td>\n",
              "      <td>0.0</td>\n",
              "    </tr>\n",
              "    <tr>\n",
              "      <th>3</th>\n",
              "      <td>0.276596</td>\n",
              "      <td>0.358209</td>\n",
              "      <td>1.0</td>\n",
              "      <td>0.666667</td>\n",
              "      <td>0.5</td>\n",
              "      <td>0.666667</td>\n",
              "      <td>0.0</td>\n",
              "      <td>0.0</td>\n",
              "      <td>0.0</td>\n",
              "      <td>0.0</td>\n",
              "      <td>...</td>\n",
              "      <td>0.0</td>\n",
              "      <td>0.0</td>\n",
              "      <td>0.0</td>\n",
              "      <td>0.0</td>\n",
              "      <td>1.0</td>\n",
              "      <td>0.0</td>\n",
              "      <td>0.0</td>\n",
              "      <td>0.0</td>\n",
              "      <td>0.0</td>\n",
              "      <td>1.0</td>\n",
              "    </tr>\n",
              "    <tr>\n",
              "      <th>4</th>\n",
              "      <td>0.170213</td>\n",
              "      <td>0.379104</td>\n",
              "      <td>0.5</td>\n",
              "      <td>0.000000</td>\n",
              "      <td>0.5</td>\n",
              "      <td>0.000000</td>\n",
              "      <td>0.0</td>\n",
              "      <td>0.0</td>\n",
              "      <td>0.0</td>\n",
              "      <td>0.0</td>\n",
              "      <td>...</td>\n",
              "      <td>0.0</td>\n",
              "      <td>0.0</td>\n",
              "      <td>0.0</td>\n",
              "      <td>0.0</td>\n",
              "      <td>0.0</td>\n",
              "      <td>1.0</td>\n",
              "      <td>0.0</td>\n",
              "      <td>1.0</td>\n",
              "      <td>0.0</td>\n",
              "      <td>0.0</td>\n",
              "    </tr>\n",
              "  </tbody>\n",
              "</table>\n",
              "<p>5 rows × 35 columns</p>\n",
              "</div>"
            ],
            "text/plain": [
              "        Age    Weight  FCVC       NCP  CH2O       FAF  Gender  \\\n",
              "0  0.148936  0.186567   0.5  0.666667   0.5  0.000000     1.0   \n",
              "1  0.148936  0.126866   1.0  0.666667   1.0  1.000000     1.0   \n",
              "2  0.191489  0.283582   0.5  0.666667   0.5  0.666667     0.0   \n",
              "3  0.276596  0.358209   1.0  0.666667   0.5  0.666667     0.0   \n",
              "4  0.170213  0.379104   0.5  0.000000   0.5  0.000000     0.0   \n",
              "\n",
              "   family_history_with_overweight  FAVC  CAEC_Always  ...  \\\n",
              "0                             1.0   0.0          0.0  ...   \n",
              "1                             1.0   0.0          0.0  ...   \n",
              "2                             1.0   0.0          0.0  ...   \n",
              "3                             0.0   0.0          0.0  ...   \n",
              "4                             0.0   0.0          0.0  ...   \n",
              "\n",
              "   NObeyesdad_Normal_Weight  NObeyesdad_Obesity_Type_I  \\\n",
              "0                       1.0                        0.0   \n",
              "1                       1.0                        0.0   \n",
              "2                       1.0                        0.0   \n",
              "3                       0.0                        0.0   \n",
              "4                       0.0                        0.0   \n",
              "\n",
              "   NObeyesdad_Obesity_Type_II  NObeyesdad_Obesity_Type_III  \\\n",
              "0                         0.0                          0.0   \n",
              "1                         0.0                          0.0   \n",
              "2                         0.0                          0.0   \n",
              "3                         0.0                          0.0   \n",
              "4                         0.0                          0.0   \n",
              "\n",
              "   NObeyesdad_Overweight_Level_I  NObeyesdad_Overweight_Level_II  \\\n",
              "0                            0.0                             0.0   \n",
              "1                            0.0                             0.0   \n",
              "2                            0.0                             0.0   \n",
              "3                            1.0                             0.0   \n",
              "4                            0.0                             1.0   \n",
              "\n",
              "   Age_Group_(13.999, 19.0]  Age_Group_(19.0, 22.0]  Age_Group_(22.0, 26.0]  \\\n",
              "0                       0.0                     1.0                     0.0   \n",
              "1                       0.0                     1.0                     0.0   \n",
              "2                       0.0                     0.0                     1.0   \n",
              "3                       0.0                     0.0                     0.0   \n",
              "4                       0.0                     1.0                     0.0   \n",
              "\n",
              "   Age_Group_(26.0, 61.0]  \n",
              "0                     0.0  \n",
              "1                     0.0  \n",
              "2                     0.0  \n",
              "3                     1.0  \n",
              "4                     0.0  \n",
              "\n",
              "[5 rows x 35 columns]"
            ]
          },
          "execution_count": 57,
          "metadata": {},
          "output_type": "execute_result"
        }
      ],
      "source": [
        "obesity = pd.read_csv(\"/data/2_Data_Clean.csv\")\n",
        "obesity.head()"
      ]
    },
    {
      "cell_type": "code",
      "execution_count": 58,
      "metadata": {
        "id": "_3V_RueOPaOX"
      },
      "outputs": [],
      "source": [
        "def obesity_level(X,y,z):\n",
        "    train_size=0.6\n",
        "    Xtrain, Xremaining, ytrain, yremaining = train_test_split(X,y, train_size=0.6, shuffle= True)\n",
        "    test_size = 0.5\n",
        "    Xtest, Xvalidation, ytest, yvalidation = train_test_split(Xremaining,yremaining, test_size=0.5, shuffle= True)\n",
        "    \n",
        "    # \"Support vector classifier\"\n",
        "    model = SVC(kernel='poly', C=1E10)\n",
        "    model.fit(Xtrain, ytrain)\n",
        "    ypred = model.predict(Xtest)\n",
        "    ypredvalidation = model.predict(Xvalidation)\n",
        "    \n",
        "\n",
        "    accuracy_hard_margin = accuracy_score(ytest,ypred)\n",
        "    accuracy_hard_margin_valid = accuracy_score(yvalidation,ypredvalidation)\n",
        "    return accuracy_hard_margin,accuracy_hard_margin_valid,z"
      ]
    },
    {
      "cell_type": "code",
      "execution_count": 59,
      "metadata": {
        "id": "HQ0Zqbu2PaOX"
      },
      "outputs": [],
      "source": [
        "def append_accuracy_name(X,Y,Z,arr,arr_val,name):\n",
        "    accuracy,accuracy_validation ,obese_type = obesity_level(X,Y,Z)\n",
        "    arr.append(accuracy)\n",
        "    arr_val.append(accuracy_validation)\n",
        "    name.append(obese_type)\n",
        "    return arr,name,arr_val"
      ]
    },
    {
      "cell_type": "code",
      "execution_count": 60,
      "metadata": {
        "id": "Lzw_kHwdPaOX"
      },
      "outputs": [],
      "source": [
        "X = obesity[['Age', 'Weight', 'FCVC', 'NCP','CH2O','FAF','Gender','family_history_with_overweight','FAVC','CAEC_Always','CAEC_Frequently','CAEC_Sometimes','CAEC_no','SMOKE','SCC',\n",
        "        'CALC_Always','CALC_Frequently','CALC_Sometimes','CAEC_no','MTRANS_Automobile','MTRANS_Bike','MTRANS_Motorbike','MTRANS_Public_Transportation','MTRANS_Walking']]\n",
        "arr = []\n",
        "arr_val = []\n",
        "name = []\n",
        "arr, name, arr_val = append_accuracy_name(X,obesity['NObeyesdad_Insufficient_Weight'],'Insufficient_Weight',arr,arr_val,name)\n",
        "arr, name, arr_val = append_accuracy_name(X,obesity['NObeyesdad_Normal_Weight'],'Normal_Weight',arr,arr_val,name)\n",
        "arr, name, arr_val = append_accuracy_name(X,obesity['NObeyesdad_Obesity_Type_I'],'Obesity_Type_I',arr,arr_val,name)\n",
        "arr, name, arr_val = append_accuracy_name(X,obesity['NObeyesdad_Obesity_Type_II'],'Obesity_Type_II',arr,arr_val,name)\n",
        "arr, name, arr_val = append_accuracy_name(X,obesity['NObeyesdad_Obesity_Type_III'],'Obesity_Type_III',arr,arr_val,name)\n",
        "arr, name, arr_val = append_accuracy_name(X,obesity['NObeyesdad_Overweight_Level_I'],'Overweight_Level_I',arr,arr_val,name)\n",
        "arr, name, arr_val = append_accuracy_name(X,obesity['NObeyesdad_Overweight_Level_II'],'Overweight_Level_II',arr,arr_val,name)"
      ]
    },
    {
      "cell_type": "code",
      "execution_count": 61,
      "metadata": {
        "id": "lAOs4VQnPaOY",
        "outputId": "5fb7d396-4d2f-4c7d-e567-fe6b62bc183b"
      },
      "outputs": [
        {
          "data": {
            "image/png": "[encoded data removed]",
            "text/plain": [
              "<Figure size 640x480 with 2 Axes>"
            ]
          },
          "metadata": {},
          "output_type": "display_data"
        }
      ],
      "source": [
        "svm_model_accuracy = {'Obesity_Type': name,'accuracy': arr,'validation_accuracy':arr_val}\n",
        "df_heatmap = pd.DataFrame(svm_model_accuracy, columns = ['Obesity_Type', 'accuracy','validation_accuracy'])\n",
        "df2 = pd.DataFrame({\"accuracy\":df_heatmap['accuracy'],\"accuracy_val\":df_heatmap['validation_accuracy']})\n",
        "sns.heatmap(df2)\n",
        "plt.show()"
      ]
    },
    {
      "cell_type": "code",
      "execution_count": 62,
      "metadata": {
        "id": "U1akVPxEPaOY",
        "outputId": "d6cd98d2-1eb9-480d-8fcd-79739e16c2ac"
      },
      "outputs": [
        {
          "data": {
            "image/png": "[encoded data removed]",
            "text/plain": [
              "<Figure size 640x480 with 1 Axes>"
            ]
          },
          "metadata": {},
          "output_type": "display_data"
        }
      ],
      "source": [
        "plt.plot(df2, linestyle = 'solid')\n",
        "plt.show()"
      ]
    },
    {
      "cell_type": "markdown",
      "metadata": {
        "id": "5YvTgnUfPaOZ"
      },
      "source": [
        "## Classification of People based on Transportation Mode "
      ]
    },
    {
      "cell_type": "code",
      "execution_count": 63,
      "metadata": {
        "id": "iTwyoUZsPaOZ"
      },
      "outputs": [],
      "source": [
        "def transportation_classification(X,y,z):\n",
        "    train_size=0.6\n",
        "    Xtrain, Xremaining, ytrain, yremaining = train_test_split(X,y, train_size=0.6, shuffle= True)\n",
        "    test_size = 0.5\n",
        "    Xtest, Xvalidation, ytest, yvalidation = train_test_split(Xremaining,yremaining, test_size=0.5, shuffle= True)\n",
        "    #Split into training and test data (60/40)\n",
        "    #Xtrain, Xtest, ytrain, ytest = train_test_split(X, y, test_size = 0.4, random_state = 42)\n",
        "    model = RandomForestClassifier(n_estimators=1000)\n",
        "    model.fit(Xtrain, ytrain)\n",
        "    y_pred = model.predict(Xtest)\n",
        "    ypredvalidation = model.predict(Xvalidation)\n",
        "    \n",
        "    accuracy = accuracy_score(ytest,y_pred)\n",
        "    accuracy_valid = accuracy_score(yvalidation,ypredvalidation)\n",
        "    return accuracy,accuracy_valid,z"
      ]
    },
    {
      "cell_type": "code",
      "execution_count": 64,
      "metadata": {
        "id": "Cf4-bVSyPaOa"
      },
      "outputs": [],
      "source": [
        "X = obesity[['Age', 'Weight', 'FCVC', 'NCP','CH2O','FAF','Gender','family_history_with_overweight','FAVC','CAEC_Always','CAEC_Frequently','CAEC_Sometimes','CAEC_no','SMOKE','SCC',\n",
        "        'CALC_Always','CALC_Frequently','CALC_Sometimes','CAEC_no','NObeyesdad_Insufficient_Weight','NObeyesdad_Normal_Weight','NObeyesdad_Obesity_Type_I','NObeyesdad_Obesity_Type_II','NObeyesdad_Obesity_Type_III','NObeyesdad_Overweight_Level_I','NObeyesdad_Overweight_Level_II']]"
      ]
    },
    {
      "cell_type": "code",
      "execution_count": 65,
      "metadata": {
        "id": "GDhurHcKPaOa"
      },
      "outputs": [],
      "source": [
        "def append_accuracy_name(X,Y,Z,arr,arr_validate,name):\n",
        "    accuracy ,accuracy_validation, transportation_type = transportation_classification(X,Y,Z)\n",
        "    arr.append(accuracy)\n",
        "    arr_validate.append(accuracy_validation)\n",
        "    name.append(transportation_type)\n",
        "    return arr,name,arr_validate"
      ]
    },
    {
      "cell_type": "code",
      "execution_count": 66,
      "metadata": {
        "id": "wcll2MhmPaOb"
      },
      "outputs": [],
      "source": [
        "arr = []\n",
        "arr_validate = []\n",
        "name = []\n",
        "arr, name, arr_validate = append_accuracy_name(X,obesity['MTRANS_Automobile'],'Automobile',arr,arr_validate,name)\n",
        "arr, name, arr_validate = append_accuracy_name(X,obesity['MTRANS_Bike'],'Bike',arr,arr_validate,name)\n",
        "arr, name, arr_validate = append_accuracy_name(X,obesity['MTRANS_Motorbike'],'Motorbike',arr,arr_validate,name)\n",
        "arr, name, arr_validate = append_accuracy_name(X,obesity['MTRANS_Public_Transportation'],'Public_Transportation',arr,arr_validate,name)\n",
        "arr, name, arr_validate = append_accuracy_name(X,obesity['MTRANS_Walking'],'Walking',arr,arr_validate,name)"
      ]
    },
    {
      "cell_type": "code",
      "execution_count": 67,
      "metadata": {
        "id": "odPjIpHrPaOb",
        "outputId": "6c3c72c0-7005-4e75-cea7-b7b9a76ed19f"
      },
      "outputs": [
        {
          "data": {
            "image/png": "[encoded data removed]",
            "text/plain": [
              "<Figure size 640x480 with 2 Axes>"
            ]
          },
          "metadata": {},
          "output_type": "display_data"
        }
      ],
      "source": [
        "randomforest_model_accuracy = {'transportation_type': name,'accuracy': arr, 'validation_accuracy':arr_validate}\n",
        "df = pd.DataFrame(randomforest_model_accuracy, columns = ['transportation_type', 'accuracy','validation_accuracy'])\n",
        "df2 = pd.DataFrame({\"accuracy\":df['accuracy'],\"accuracy_val\":df['validation_accuracy']})\n",
        "sns.heatmap(df2)\n",
        "plt.show()"
      ]
    },
    {
      "cell_type": "code",
      "execution_count": 68,
      "metadata": {
        "id": "a6mteQfrPaOc",
        "outputId": "bec71cdb-3baf-4345-dce4-4950634023ae"
      },
      "outputs": [
        {
          "data": {
            "image/png": "[encoded data removed]",
            "text/plain": [
              "<Figure size 640x480 with 1 Axes>"
            ]
          },
          "metadata": {},
          "output_type": "display_data"
        }
      ],
      "source": [
        "plt.plot(df2, linestyle = 'solid')\n",
        "plt.show()"
      ]
    },
    {
      "cell_type": "code",
      "execution_count": null,
      "metadata": {},
      "outputs": [],
      "source": []
    }
  ],
  "metadata": {
    "colab": {
      "collapsed_sections": [],
      "name": "Project2-updated.ipynb",
      "provenance": []
    },
    "kernelspec": {
      "display_name": "Python 3",
      "language": "python",
      "name": "python3"
    },
    "language_info": {
      "codemirror_mode": {
        "name": "ipython",
        "version": 3
      },
      "file_extension": ".py",
      "mimetype": "text/x-python",
      "name": "python",
      "nbconvert_exporter": "python",
      "pygments_lexer": "ipython3",
      "version": "3.9.18"
    }
  },
  "nbformat": 4,
  "nbformat_minor": 0
}
