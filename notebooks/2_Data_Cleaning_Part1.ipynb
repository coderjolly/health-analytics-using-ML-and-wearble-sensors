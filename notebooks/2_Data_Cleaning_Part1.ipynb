{
  "cells": [
    {
      "cell_type": "code",
      "execution_count": 49,
      "metadata": {
        "id": "9ww_tgqPmjsS"
      },
      "outputs": [],
      "source": [
        "import matplotlib.pyplot as plt\n",
        "import pandas as pd\n",
        "import numpy as np\n",
        "import seaborn as sns"
      ]
    },
    {
      "cell_type": "code",
      "execution_count": 53,
      "metadata": {
        "id": "fACw_Zg4nmuD"
      },
      "outputs": [],
      "source": [
        "df = pd.read_csv('/data/1_ObesityDataSet_raw_and_data_sinthetic.csv')"
      ]
    },
    {
      "cell_type": "code",
      "execution_count": 54,
      "metadata": {
        "colab": {
          "base_uri": "https://localhost:8080/",
          "height": 224
        },
        "id": "uWVg1Hnqn1i9",
        "outputId": "94c81bda-bd5a-4e7c-c894-d6b8cb2ed8c4"
      },
      "outputs": [
        {
          "data": {
            "text/html": [
              "<div>\n",
              "<style scoped>\n",
              "    .dataframe tbody tr th:only-of-type {\n",
              "        vertical-align: middle;\n",
              "    }\n",
              "\n",
              "    .dataframe tbody tr th {\n",
              "        vertical-align: top;\n",
              "    }\n",
              "\n",
              "    .dataframe thead th {\n",
              "        text-align: right;\n",
              "    }\n",
              "</style>\n",
              "<table border=\"1\" class=\"dataframe\">\n",
              "  <thead>\n",
              "    <tr style=\"text-align: right;\">\n",
              "      <th></th>\n",
              "      <th>Gender</th>\n",
              "      <th>Age</th>\n",
              "      <th>Height</th>\n",
              "      <th>Weight</th>\n",
              "      <th>family_history_with_overweight</th>\n",
              "      <th>FAVC</th>\n",
              "      <th>FCVC</th>\n",
              "      <th>NCP</th>\n",
              "      <th>CAEC</th>\n",
              "      <th>SMOKE</th>\n",
              "      <th>CH2O</th>\n",
              "      <th>SCC</th>\n",
              "      <th>FAF</th>\n",
              "      <th>TUE</th>\n",
              "      <th>CALC</th>\n",
              "      <th>MTRANS</th>\n",
              "      <th>NObeyesdad</th>\n",
              "    </tr>\n",
              "  </thead>\n",
              "  <tbody>\n",
              "    <tr>\n",
              "      <th>0</th>\n",
              "      <td>Female</td>\n",
              "      <td>21.0</td>\n",
              "      <td>1.62</td>\n",
              "      <td>64.0</td>\n",
              "      <td>yes</td>\n",
              "      <td>no</td>\n",
              "      <td>2.0</td>\n",
              "      <td>3.0</td>\n",
              "      <td>Sometimes</td>\n",
              "      <td>no</td>\n",
              "      <td>2.0</td>\n",
              "      <td>no</td>\n",
              "      <td>0.0</td>\n",
              "      <td>1.0</td>\n",
              "      <td>no</td>\n",
              "      <td>Public_Transportation</td>\n",
              "      <td>Normal_Weight</td>\n",
              "    </tr>\n",
              "    <tr>\n",
              "      <th>1</th>\n",
              "      <td>Female</td>\n",
              "      <td>21.0</td>\n",
              "      <td>1.52</td>\n",
              "      <td>56.0</td>\n",
              "      <td>yes</td>\n",
              "      <td>no</td>\n",
              "      <td>3.0</td>\n",
              "      <td>3.0</td>\n",
              "      <td>Sometimes</td>\n",
              "      <td>yes</td>\n",
              "      <td>3.0</td>\n",
              "      <td>yes</td>\n",
              "      <td>3.0</td>\n",
              "      <td>0.0</td>\n",
              "      <td>Sometimes</td>\n",
              "      <td>Public_Transportation</td>\n",
              "      <td>Normal_Weight</td>\n",
              "    </tr>\n",
              "    <tr>\n",
              "      <th>2</th>\n",
              "      <td>Male</td>\n",
              "      <td>23.0</td>\n",
              "      <td>1.80</td>\n",
              "      <td>77.0</td>\n",
              "      <td>yes</td>\n",
              "      <td>no</td>\n",
              "      <td>2.0</td>\n",
              "      <td>3.0</td>\n",
              "      <td>Sometimes</td>\n",
              "      <td>no</td>\n",
              "      <td>2.0</td>\n",
              "      <td>no</td>\n",
              "      <td>2.0</td>\n",
              "      <td>1.0</td>\n",
              "      <td>Frequently</td>\n",
              "      <td>Public_Transportation</td>\n",
              "      <td>Normal_Weight</td>\n",
              "    </tr>\n",
              "    <tr>\n",
              "      <th>3</th>\n",
              "      <td>Male</td>\n",
              "      <td>27.0</td>\n",
              "      <td>1.80</td>\n",
              "      <td>87.0</td>\n",
              "      <td>no</td>\n",
              "      <td>no</td>\n",
              "      <td>3.0</td>\n",
              "      <td>3.0</td>\n",
              "      <td>Sometimes</td>\n",
              "      <td>no</td>\n",
              "      <td>2.0</td>\n",
              "      <td>no</td>\n",
              "      <td>2.0</td>\n",
              "      <td>0.0</td>\n",
              "      <td>Frequently</td>\n",
              "      <td>Walking</td>\n",
              "      <td>Overweight_Level_I</td>\n",
              "    </tr>\n",
              "    <tr>\n",
              "      <th>4</th>\n",
              "      <td>Male</td>\n",
              "      <td>22.0</td>\n",
              "      <td>1.78</td>\n",
              "      <td>89.8</td>\n",
              "      <td>no</td>\n",
              "      <td>no</td>\n",
              "      <td>2.0</td>\n",
              "      <td>1.0</td>\n",
              "      <td>Sometimes</td>\n",
              "      <td>no</td>\n",
              "      <td>2.0</td>\n",
              "      <td>no</td>\n",
              "      <td>0.0</td>\n",
              "      <td>0.0</td>\n",
              "      <td>Sometimes</td>\n",
              "      <td>Public_Transportation</td>\n",
              "      <td>Overweight_Level_II</td>\n",
              "    </tr>\n",
              "  </tbody>\n",
              "</table>\n",
              "</div>"
            ],
            "text/plain": [
              "   Gender   Age  Height  Weight family_history_with_overweight FAVC  FCVC  \\\n",
              "0  Female  21.0    1.62    64.0                            yes   no   2.0   \n",
              "1  Female  21.0    1.52    56.0                            yes   no   3.0   \n",
              "2    Male  23.0    1.80    77.0                            yes   no   2.0   \n",
              "3    Male  27.0    1.80    87.0                             no   no   3.0   \n",
              "4    Male  22.0    1.78    89.8                             no   no   2.0   \n",
              "\n",
              "   NCP       CAEC SMOKE  CH2O  SCC  FAF  TUE        CALC  \\\n",
              "0  3.0  Sometimes    no   2.0   no  0.0  1.0          no   \n",
              "1  3.0  Sometimes   yes   3.0  yes  3.0  0.0   Sometimes   \n",
              "2  3.0  Sometimes    no   2.0   no  2.0  1.0  Frequently   \n",
              "3  3.0  Sometimes    no   2.0   no  2.0  0.0  Frequently   \n",
              "4  1.0  Sometimes    no   2.0   no  0.0  0.0   Sometimes   \n",
              "\n",
              "                  MTRANS           NObeyesdad  \n",
              "0  Public_Transportation        Normal_Weight  \n",
              "1  Public_Transportation        Normal_Weight  \n",
              "2  Public_Transportation        Normal_Weight  \n",
              "3                Walking   Overweight_Level_I  \n",
              "4  Public_Transportation  Overweight_Level_II  "
            ]
          },
          "execution_count": 54,
          "metadata": {},
          "output_type": "execute_result"
        }
      ],
      "source": [
        "df.head()"
      ]
    },
    {
      "cell_type": "code",
      "execution_count": 55,
      "metadata": {
        "colab": {
          "base_uri": "https://localhost:8080/"
        },
        "id": "EM5GxGM6n_lK",
        "outputId": "d3dc2504-3b06-49ce-f91b-00c892f5cae2"
      },
      "outputs": [
        {
          "data": {
            "text/plain": [
              "Gender                            0\n",
              "Age                               0\n",
              "Height                            0\n",
              "Weight                            0\n",
              "family_history_with_overweight    0\n",
              "FAVC                              0\n",
              "FCVC                              0\n",
              "NCP                               0\n",
              "CAEC                              0\n",
              "SMOKE                             0\n",
              "CH2O                              0\n",
              "SCC                               0\n",
              "FAF                               0\n",
              "TUE                               0\n",
              "CALC                              0\n",
              "MTRANS                            0\n",
              "NObeyesdad                        0\n",
              "dtype: int64"
            ]
          },
          "execution_count": 55,
          "metadata": {},
          "output_type": "execute_result"
        }
      ],
      "source": [
        "df.isnull().sum()"
      ]
    },
    {
      "cell_type": "code",
      "execution_count": 56,
      "metadata": {
        "colab": {
          "base_uri": "https://localhost:8080/"
        },
        "id": "ERi0T2choCO3",
        "outputId": "b994fdf7-315d-4264-a2e3-9f7f45ee0b93"
      },
      "outputs": [
        {
          "name": "stdout",
          "output_type": "stream",
          "text": [
            "<class 'pandas.core.frame.DataFrame'>\n",
            "RangeIndex: 2111 entries, 0 to 2110\n",
            "Data columns (total 17 columns):\n",
            " #   Column                          Non-Null Count  Dtype  \n",
            "---  ------                          --------------  -----  \n",
            " 0   Gender                          2111 non-null   object \n",
            " 1   Age                             2111 non-null   float64\n",
            " 2   Height                          2111 non-null   float64\n",
            " 3   Weight                          2111 non-null   float64\n",
            " 4   family_history_with_overweight  2111 non-null   object \n",
            " 5   FAVC                            2111 non-null   object \n",
            " 6   FCVC                            2111 non-null   float64\n",
            " 7   NCP                             2111 non-null   float64\n",
            " 8   CAEC                            2111 non-null   object \n",
            " 9   SMOKE                           2111 non-null   object \n",
            " 10  CH2O                            2111 non-null   float64\n",
            " 11  SCC                             2111 non-null   object \n",
            " 12  FAF                             2111 non-null   float64\n",
            " 13  TUE                             2111 non-null   float64\n",
            " 14  CALC                            2111 non-null   object \n",
            " 15  MTRANS                          2111 non-null   object \n",
            " 16  NObeyesdad                      2111 non-null   object \n",
            "dtypes: float64(8), object(9)\n",
            "memory usage: 280.5+ KB\n"
          ]
        }
      ],
      "source": [
        "df.info()"
      ]
    },
    {
      "cell_type": "code",
      "execution_count": 57,
      "metadata": {
        "colab": {
          "base_uri": "https://localhost:8080/",
          "height": 297
        },
        "id": "I1yTu1oXoKy_",
        "outputId": "69e75e45-c5bc-420f-e20d-0d57d2faa567"
      },
      "outputs": [
        {
          "data": {
            "text/html": [
              "<div>\n",
              "<style scoped>\n",
              "    .dataframe tbody tr th:only-of-type {\n",
              "        vertical-align: middle;\n",
              "    }\n",
              "\n",
              "    .dataframe tbody tr th {\n",
              "        vertical-align: top;\n",
              "    }\n",
              "\n",
              "    .dataframe thead th {\n",
              "        text-align: right;\n",
              "    }\n",
              "</style>\n",
              "<table border=\"1\" class=\"dataframe\">\n",
              "  <thead>\n",
              "    <tr style=\"text-align: right;\">\n",
              "      <th></th>\n",
              "      <th>Age</th>\n",
              "      <th>Height</th>\n",
              "      <th>Weight</th>\n",
              "      <th>FCVC</th>\n",
              "      <th>NCP</th>\n",
              "      <th>CH2O</th>\n",
              "      <th>FAF</th>\n",
              "      <th>TUE</th>\n",
              "    </tr>\n",
              "  </thead>\n",
              "  <tbody>\n",
              "    <tr>\n",
              "      <th>count</th>\n",
              "      <td>2111.000000</td>\n",
              "      <td>2111.000000</td>\n",
              "      <td>2111.000000</td>\n",
              "      <td>2111.000000</td>\n",
              "      <td>2111.000000</td>\n",
              "      <td>2111.000000</td>\n",
              "      <td>2111.000000</td>\n",
              "      <td>2111.000000</td>\n",
              "    </tr>\n",
              "    <tr>\n",
              "      <th>mean</th>\n",
              "      <td>24.312600</td>\n",
              "      <td>1.701677</td>\n",
              "      <td>86.586058</td>\n",
              "      <td>2.419043</td>\n",
              "      <td>2.685628</td>\n",
              "      <td>2.008011</td>\n",
              "      <td>1.010298</td>\n",
              "      <td>0.657866</td>\n",
              "    </tr>\n",
              "    <tr>\n",
              "      <th>std</th>\n",
              "      <td>6.345968</td>\n",
              "      <td>0.093305</td>\n",
              "      <td>26.191172</td>\n",
              "      <td>0.533927</td>\n",
              "      <td>0.778039</td>\n",
              "      <td>0.612953</td>\n",
              "      <td>0.850592</td>\n",
              "      <td>0.608927</td>\n",
              "    </tr>\n",
              "    <tr>\n",
              "      <th>min</th>\n",
              "      <td>14.000000</td>\n",
              "      <td>1.450000</td>\n",
              "      <td>39.000000</td>\n",
              "      <td>1.000000</td>\n",
              "      <td>1.000000</td>\n",
              "      <td>1.000000</td>\n",
              "      <td>0.000000</td>\n",
              "      <td>0.000000</td>\n",
              "    </tr>\n",
              "    <tr>\n",
              "      <th>25%</th>\n",
              "      <td>19.947192</td>\n",
              "      <td>1.630000</td>\n",
              "      <td>65.473343</td>\n",
              "      <td>2.000000</td>\n",
              "      <td>2.658738</td>\n",
              "      <td>1.584812</td>\n",
              "      <td>0.124505</td>\n",
              "      <td>0.000000</td>\n",
              "    </tr>\n",
              "    <tr>\n",
              "      <th>50%</th>\n",
              "      <td>22.777890</td>\n",
              "      <td>1.700499</td>\n",
              "      <td>83.000000</td>\n",
              "      <td>2.385502</td>\n",
              "      <td>3.000000</td>\n",
              "      <td>2.000000</td>\n",
              "      <td>1.000000</td>\n",
              "      <td>0.625350</td>\n",
              "    </tr>\n",
              "    <tr>\n",
              "      <th>75%</th>\n",
              "      <td>26.000000</td>\n",
              "      <td>1.768464</td>\n",
              "      <td>107.430682</td>\n",
              "      <td>3.000000</td>\n",
              "      <td>3.000000</td>\n",
              "      <td>2.477420</td>\n",
              "      <td>1.666678</td>\n",
              "      <td>1.000000</td>\n",
              "    </tr>\n",
              "    <tr>\n",
              "      <th>max</th>\n",
              "      <td>61.000000</td>\n",
              "      <td>1.980000</td>\n",
              "      <td>173.000000</td>\n",
              "      <td>3.000000</td>\n",
              "      <td>4.000000</td>\n",
              "      <td>3.000000</td>\n",
              "      <td>3.000000</td>\n",
              "      <td>2.000000</td>\n",
              "    </tr>\n",
              "  </tbody>\n",
              "</table>\n",
              "</div>"
            ],
            "text/plain": [
              "               Age       Height       Weight         FCVC          NCP  \\\n",
              "count  2111.000000  2111.000000  2111.000000  2111.000000  2111.000000   \n",
              "mean     24.312600     1.701677    86.586058     2.419043     2.685628   \n",
              "std       6.345968     0.093305    26.191172     0.533927     0.778039   \n",
              "min      14.000000     1.450000    39.000000     1.000000     1.000000   \n",
              "25%      19.947192     1.630000    65.473343     2.000000     2.658738   \n",
              "50%      22.777890     1.700499    83.000000     2.385502     3.000000   \n",
              "75%      26.000000     1.768464   107.430682     3.000000     3.000000   \n",
              "max      61.000000     1.980000   173.000000     3.000000     4.000000   \n",
              "\n",
              "              CH2O          FAF          TUE  \n",
              "count  2111.000000  2111.000000  2111.000000  \n",
              "mean      2.008011     1.010298     0.657866  \n",
              "std       0.612953     0.850592     0.608927  \n",
              "min       1.000000     0.000000     0.000000  \n",
              "25%       1.584812     0.124505     0.000000  \n",
              "50%       2.000000     1.000000     0.625350  \n",
              "75%       2.477420     1.666678     1.000000  \n",
              "max       3.000000     3.000000     2.000000  "
            ]
          },
          "execution_count": 57,
          "metadata": {},
          "output_type": "execute_result"
        }
      ],
      "source": [
        "df.describe()"
      ]
    },
    {
      "cell_type": "code",
      "execution_count": 58,
      "metadata": {
        "colab": {
          "base_uri": "https://localhost:8080/"
        },
        "id": "biUQEoLdp_gv",
        "outputId": "da4b5f86-faa5-4b68-f315-d7cf7557ecb3"
      },
      "outputs": [
        {
          "data": {
            "text/plain": [
              "Index(['Gender', 'Age', 'Height', 'Weight', 'family_history_with_overweight',\n",
              "       'FAVC', 'FCVC', 'NCP', 'CAEC', 'SMOKE', 'CH2O', 'SCC', 'FAF', 'TUE',\n",
              "       'CALC', 'MTRANS', 'NObeyesdad'],\n",
              "      dtype='object')"
            ]
          },
          "execution_count": 58,
          "metadata": {},
          "output_type": "execute_result"
        }
      ],
      "source": [
        "df.columns"
      ]
    },
    {
      "cell_type": "code",
      "execution_count": 59,
      "metadata": {
        "colab": {
          "base_uri": "https://localhost:8080/",
          "height": 224
        },
        "id": "K4CGJcB8qYNy",
        "outputId": "c50f1b12-1e31-4946-c517-97e014976995"
      },
      "outputs": [
        {
          "data": {
            "text/html": [
              "<div>\n",
              "<style scoped>\n",
              "    .dataframe tbody tr th:only-of-type {\n",
              "        vertical-align: middle;\n",
              "    }\n",
              "\n",
              "    .dataframe tbody tr th {\n",
              "        vertical-align: top;\n",
              "    }\n",
              "\n",
              "    .dataframe thead th {\n",
              "        text-align: right;\n",
              "    }\n",
              "</style>\n",
              "<table border=\"1\" class=\"dataframe\">\n",
              "  <thead>\n",
              "    <tr style=\"text-align: right;\">\n",
              "      <th></th>\n",
              "      <th>Gender</th>\n",
              "      <th>Age</th>\n",
              "      <th>Height</th>\n",
              "      <th>Weight</th>\n",
              "      <th>family_history_with_overweight</th>\n",
              "      <th>FAVC</th>\n",
              "      <th>FCVC</th>\n",
              "      <th>NCP</th>\n",
              "      <th>CAEC</th>\n",
              "      <th>SMOKE</th>\n",
              "      <th>CH2O</th>\n",
              "      <th>SCC</th>\n",
              "      <th>FAF</th>\n",
              "      <th>TUE</th>\n",
              "      <th>CALC</th>\n",
              "      <th>MTRANS</th>\n",
              "      <th>NObeyesdad</th>\n",
              "    </tr>\n",
              "  </thead>\n",
              "  <tbody>\n",
              "    <tr>\n",
              "      <th>0</th>\n",
              "      <td>Female</td>\n",
              "      <td>21.0</td>\n",
              "      <td>1.62</td>\n",
              "      <td>64.0</td>\n",
              "      <td>yes</td>\n",
              "      <td>no</td>\n",
              "      <td>2.0</td>\n",
              "      <td>3.0</td>\n",
              "      <td>Sometimes</td>\n",
              "      <td>no</td>\n",
              "      <td>2.0</td>\n",
              "      <td>no</td>\n",
              "      <td>0.0</td>\n",
              "      <td>1.0</td>\n",
              "      <td>no</td>\n",
              "      <td>Public_Transportation</td>\n",
              "      <td>Normal_Weight</td>\n",
              "    </tr>\n",
              "    <tr>\n",
              "      <th>1</th>\n",
              "      <td>Female</td>\n",
              "      <td>21.0</td>\n",
              "      <td>1.52</td>\n",
              "      <td>56.0</td>\n",
              "      <td>yes</td>\n",
              "      <td>no</td>\n",
              "      <td>3.0</td>\n",
              "      <td>3.0</td>\n",
              "      <td>Sometimes</td>\n",
              "      <td>yes</td>\n",
              "      <td>3.0</td>\n",
              "      <td>yes</td>\n",
              "      <td>3.0</td>\n",
              "      <td>0.0</td>\n",
              "      <td>Sometimes</td>\n",
              "      <td>Public_Transportation</td>\n",
              "      <td>Normal_Weight</td>\n",
              "    </tr>\n",
              "    <tr>\n",
              "      <th>2</th>\n",
              "      <td>Male</td>\n",
              "      <td>23.0</td>\n",
              "      <td>1.80</td>\n",
              "      <td>77.0</td>\n",
              "      <td>yes</td>\n",
              "      <td>no</td>\n",
              "      <td>2.0</td>\n",
              "      <td>3.0</td>\n",
              "      <td>Sometimes</td>\n",
              "      <td>no</td>\n",
              "      <td>2.0</td>\n",
              "      <td>no</td>\n",
              "      <td>2.0</td>\n",
              "      <td>1.0</td>\n",
              "      <td>Frequently</td>\n",
              "      <td>Public_Transportation</td>\n",
              "      <td>Normal_Weight</td>\n",
              "    </tr>\n",
              "    <tr>\n",
              "      <th>3</th>\n",
              "      <td>Male</td>\n",
              "      <td>27.0</td>\n",
              "      <td>1.80</td>\n",
              "      <td>87.0</td>\n",
              "      <td>no</td>\n",
              "      <td>no</td>\n",
              "      <td>3.0</td>\n",
              "      <td>3.0</td>\n",
              "      <td>Sometimes</td>\n",
              "      <td>no</td>\n",
              "      <td>2.0</td>\n",
              "      <td>no</td>\n",
              "      <td>2.0</td>\n",
              "      <td>0.0</td>\n",
              "      <td>Frequently</td>\n",
              "      <td>Walking</td>\n",
              "      <td>Overweight_Level_I</td>\n",
              "    </tr>\n",
              "    <tr>\n",
              "      <th>4</th>\n",
              "      <td>Male</td>\n",
              "      <td>22.0</td>\n",
              "      <td>1.78</td>\n",
              "      <td>89.8</td>\n",
              "      <td>no</td>\n",
              "      <td>no</td>\n",
              "      <td>2.0</td>\n",
              "      <td>1.0</td>\n",
              "      <td>Sometimes</td>\n",
              "      <td>no</td>\n",
              "      <td>2.0</td>\n",
              "      <td>no</td>\n",
              "      <td>0.0</td>\n",
              "      <td>0.0</td>\n",
              "      <td>Sometimes</td>\n",
              "      <td>Public_Transportation</td>\n",
              "      <td>Overweight_Level_II</td>\n",
              "    </tr>\n",
              "  </tbody>\n",
              "</table>\n",
              "</div>"
            ],
            "text/plain": [
              "   Gender   Age  Height  Weight family_history_with_overweight FAVC  FCVC  \\\n",
              "0  Female  21.0    1.62    64.0                            yes   no   2.0   \n",
              "1  Female  21.0    1.52    56.0                            yes   no   3.0   \n",
              "2    Male  23.0    1.80    77.0                            yes   no   2.0   \n",
              "3    Male  27.0    1.80    87.0                             no   no   3.0   \n",
              "4    Male  22.0    1.78    89.8                             no   no   2.0   \n",
              "\n",
              "   NCP       CAEC SMOKE  CH2O  SCC  FAF  TUE        CALC  \\\n",
              "0  3.0  Sometimes    no   2.0   no  0.0  1.0          no   \n",
              "1  3.0  Sometimes   yes   3.0  yes  3.0  0.0   Sometimes   \n",
              "2  3.0  Sometimes    no   2.0   no  2.0  1.0  Frequently   \n",
              "3  3.0  Sometimes    no   2.0   no  2.0  0.0  Frequently   \n",
              "4  1.0  Sometimes    no   2.0   no  0.0  0.0   Sometimes   \n",
              "\n",
              "                  MTRANS           NObeyesdad  \n",
              "0  Public_Transportation        Normal_Weight  \n",
              "1  Public_Transportation        Normal_Weight  \n",
              "2  Public_Transportation        Normal_Weight  \n",
              "3                Walking   Overweight_Level_I  \n",
              "4  Public_Transportation  Overweight_Level_II  "
            ]
          },
          "execution_count": 59,
          "metadata": {},
          "output_type": "execute_result"
        }
      ],
      "source": [
        "df.head()"
      ]
    },
    {
      "cell_type": "markdown",
      "metadata": {
        "id": "GKAhYxe4bNoi"
      },
      "source": [
        "#### Since  some rows of Age include float values, we are changing the float values to integers."
      ]
    },
    {
      "cell_type": "code",
      "execution_count": 60,
      "metadata": {
        "id": "MtqotGYfbJcR"
      },
      "outputs": [],
      "source": [
        "df['Age'] = df['Age'].apply(np.int64)"
      ]
    },
    {
      "cell_type": "code",
      "execution_count": 61,
      "metadata": {
        "colab": {
          "base_uri": "https://localhost:8080/"
        },
        "id": "-6YkKpwBbV_Q",
        "outputId": "4bb7694c-8317-43ab-9b02-2c4206bdc9ac"
      },
      "outputs": [
        {
          "data": {
            "text/plain": [
              "0       21\n",
              "1       21\n",
              "2       23\n",
              "3       27\n",
              "4       22\n",
              "        ..\n",
              "2106    20\n",
              "2107    21\n",
              "2108    22\n",
              "2109    24\n",
              "2110    23\n",
              "Name: Age, Length: 2111, dtype: int64"
            ]
          },
          "execution_count": 61,
          "metadata": {},
          "output_type": "execute_result"
        }
      ],
      "source": [
        "df['Age']"
      ]
    },
    {
      "cell_type": "markdown",
      "metadata": {
        "id": "I6NyVtMmqiFe"
      },
      "source": [
        "#### Checking for outliers"
      ]
    },
    {
      "cell_type": "code",
      "execution_count": 62,
      "metadata": {
        "id": "_b-lZymruSqk"
      },
      "outputs": [],
      "source": [
        "df_numeric = df[['Age', 'Height', 'Weight','FCVC','NCP', 'CH2O', 'FAF', 'TUE']]"
      ]
    },
    {
      "cell_type": "code",
      "execution_count": 63,
      "metadata": {
        "colab": {
          "base_uri": "https://localhost:8080/",
          "height": 311
        },
        "id": "WBAgNkbOpY24",
        "outputId": "60090c3d-0400-471d-e731-64cebe22665a"
      },
      "outputs": [
        {
          "data": {
            "image/png": "[encoded data removed]",
            "text/plain": [
              "<Figure size 640x480 with 8 Axes>"
            ]
          },
          "metadata": {},
          "output_type": "display_data"
        }
      ],
      "source": [
        "col_list = df_numeric.columns\n",
        "\n",
        "idx=0\n",
        "for i in col_list:\n",
        "  idx+=1\n",
        "  plt.subplot(4,2,idx)\n",
        "  sns.boxplot(y = i , data = df_numeric)\n",
        "  plt.tight_layout(pad = 0.4, w_pad = 0.5)"
      ]
    },
    {
      "cell_type": "markdown",
      "metadata": {
        "id": "oRUR1X9GxoWD"
      },
      "source": [
        "**As seen in the boxplots above, the age column has some outliers, however, age between** \n",
        "**40-60 is not necessarily outliers. Therefore, outliers in age column does not need much** \n",
        "**treatment. Further, all other columns except for NCP do not have outliers.**"
      ]
    },
    {
      "cell_type": "code",
      "execution_count": 64,
      "metadata": {
        "colab": {
          "base_uri": "https://localhost:8080/"
        },
        "id": "nZL2AvAWaJtz",
        "outputId": "908d6e02-81d9-4107-8452-496734c6f4d8"
      },
      "outputs": [
        {
          "data": {
            "text/plain": [
              "count    2111.000000\n",
              "mean       23.972525\n",
              "std         6.308664\n",
              "min        14.000000\n",
              "25%        19.000000\n",
              "50%        22.000000\n",
              "75%        26.000000\n",
              "max        61.000000\n",
              "Name: Age, dtype: float64"
            ]
          },
          "execution_count": 64,
          "metadata": {},
          "output_type": "execute_result"
        }
      ],
      "source": [
        "df['Age'].describe()"
      ]
    },
    {
      "cell_type": "code",
      "execution_count": 65,
      "metadata": {
        "id": "wU1aAMKdblFI"
      },
      "outputs": [],
      "source": [
        "df['Age_Group'] = pd.qcut(df['Age'], q=4)"
      ]
    },
    {
      "cell_type": "code",
      "execution_count": 66,
      "metadata": {
        "colab": {
          "base_uri": "https://localhost:8080/"
        },
        "id": "Kd3NuaqDcfCu",
        "outputId": "ffb23b82-1c74-4945-d8e2-6628f30ce8ba"
      },
      "outputs": [
        {
          "data": {
            "text/plain": [
              "Age_Group\n",
              "(19.0, 22.0]      569\n",
              "(22.0, 26.0]      545\n",
              "(13.999, 19.0]    537\n",
              "(26.0, 61.0]      460\n",
              "Name: count, dtype: int64"
            ]
          },
          "execution_count": 66,
          "metadata": {},
          "output_type": "execute_result"
        }
      ],
      "source": [
        "df['Age_Group'].value_counts()"
      ]
    },
    {
      "cell_type": "code",
      "execution_count": 67,
      "metadata": {
        "colab": {
          "base_uri": "https://localhost:8080/",
          "height": 309
        },
        "id": "DAgsiqp6dQ0V",
        "outputId": "654614f0-a4bd-4e94-f6d4-63b455df494d"
      },
      "outputs": [
        {
          "data": {
            "text/html": [
              "<div>\n",
              "<style scoped>\n",
              "    .dataframe tbody tr th:only-of-type {\n",
              "        vertical-align: middle;\n",
              "    }\n",
              "\n",
              "    .dataframe tbody tr th {\n",
              "        vertical-align: top;\n",
              "    }\n",
              "\n",
              "    .dataframe thead th {\n",
              "        text-align: right;\n",
              "    }\n",
              "</style>\n",
              "<table border=\"1\" class=\"dataframe\">\n",
              "  <thead>\n",
              "    <tr style=\"text-align: right;\">\n",
              "      <th></th>\n",
              "      <th>Gender</th>\n",
              "      <th>Age</th>\n",
              "      <th>Height</th>\n",
              "      <th>Weight</th>\n",
              "      <th>family_history_with_overweight</th>\n",
              "      <th>FAVC</th>\n",
              "      <th>FCVC</th>\n",
              "      <th>NCP</th>\n",
              "      <th>CAEC</th>\n",
              "      <th>SMOKE</th>\n",
              "      <th>CH2O</th>\n",
              "      <th>SCC</th>\n",
              "      <th>FAF</th>\n",
              "      <th>TUE</th>\n",
              "      <th>CALC</th>\n",
              "      <th>MTRANS</th>\n",
              "      <th>NObeyesdad</th>\n",
              "      <th>Age_Group</th>\n",
              "    </tr>\n",
              "  </thead>\n",
              "  <tbody>\n",
              "    <tr>\n",
              "      <th>0</th>\n",
              "      <td>Female</td>\n",
              "      <td>21</td>\n",
              "      <td>1.62</td>\n",
              "      <td>64.0</td>\n",
              "      <td>yes</td>\n",
              "      <td>no</td>\n",
              "      <td>2.0</td>\n",
              "      <td>3.0</td>\n",
              "      <td>Sometimes</td>\n",
              "      <td>no</td>\n",
              "      <td>2.0</td>\n",
              "      <td>no</td>\n",
              "      <td>0.0</td>\n",
              "      <td>1.0</td>\n",
              "      <td>no</td>\n",
              "      <td>Public_Transportation</td>\n",
              "      <td>Normal_Weight</td>\n",
              "      <td>(19.0, 22.0]</td>\n",
              "    </tr>\n",
              "    <tr>\n",
              "      <th>1</th>\n",
              "      <td>Female</td>\n",
              "      <td>21</td>\n",
              "      <td>1.52</td>\n",
              "      <td>56.0</td>\n",
              "      <td>yes</td>\n",
              "      <td>no</td>\n",
              "      <td>3.0</td>\n",
              "      <td>3.0</td>\n",
              "      <td>Sometimes</td>\n",
              "      <td>yes</td>\n",
              "      <td>3.0</td>\n",
              "      <td>yes</td>\n",
              "      <td>3.0</td>\n",
              "      <td>0.0</td>\n",
              "      <td>Sometimes</td>\n",
              "      <td>Public_Transportation</td>\n",
              "      <td>Normal_Weight</td>\n",
              "      <td>(19.0, 22.0]</td>\n",
              "    </tr>\n",
              "    <tr>\n",
              "      <th>2</th>\n",
              "      <td>Male</td>\n",
              "      <td>23</td>\n",
              "      <td>1.80</td>\n",
              "      <td>77.0</td>\n",
              "      <td>yes</td>\n",
              "      <td>no</td>\n",
              "      <td>2.0</td>\n",
              "      <td>3.0</td>\n",
              "      <td>Sometimes</td>\n",
              "      <td>no</td>\n",
              "      <td>2.0</td>\n",
              "      <td>no</td>\n",
              "      <td>2.0</td>\n",
              "      <td>1.0</td>\n",
              "      <td>Frequently</td>\n",
              "      <td>Public_Transportation</td>\n",
              "      <td>Normal_Weight</td>\n",
              "      <td>(22.0, 26.0]</td>\n",
              "    </tr>\n",
              "    <tr>\n",
              "      <th>3</th>\n",
              "      <td>Male</td>\n",
              "      <td>27</td>\n",
              "      <td>1.80</td>\n",
              "      <td>87.0</td>\n",
              "      <td>no</td>\n",
              "      <td>no</td>\n",
              "      <td>3.0</td>\n",
              "      <td>3.0</td>\n",
              "      <td>Sometimes</td>\n",
              "      <td>no</td>\n",
              "      <td>2.0</td>\n",
              "      <td>no</td>\n",
              "      <td>2.0</td>\n",
              "      <td>0.0</td>\n",
              "      <td>Frequently</td>\n",
              "      <td>Walking</td>\n",
              "      <td>Overweight_Level_I</td>\n",
              "      <td>(26.0, 61.0]</td>\n",
              "    </tr>\n",
              "    <tr>\n",
              "      <th>4</th>\n",
              "      <td>Male</td>\n",
              "      <td>22</td>\n",
              "      <td>1.78</td>\n",
              "      <td>89.8</td>\n",
              "      <td>no</td>\n",
              "      <td>no</td>\n",
              "      <td>2.0</td>\n",
              "      <td>1.0</td>\n",
              "      <td>Sometimes</td>\n",
              "      <td>no</td>\n",
              "      <td>2.0</td>\n",
              "      <td>no</td>\n",
              "      <td>0.0</td>\n",
              "      <td>0.0</td>\n",
              "      <td>Sometimes</td>\n",
              "      <td>Public_Transportation</td>\n",
              "      <td>Overweight_Level_II</td>\n",
              "      <td>(19.0, 22.0]</td>\n",
              "    </tr>\n",
              "  </tbody>\n",
              "</table>\n",
              "</div>"
            ],
            "text/plain": [
              "   Gender  Age  Height  Weight family_history_with_overweight FAVC  FCVC  NCP  \\\n",
              "0  Female   21    1.62    64.0                            yes   no   2.0  3.0   \n",
              "1  Female   21    1.52    56.0                            yes   no   3.0  3.0   \n",
              "2    Male   23    1.80    77.0                            yes   no   2.0  3.0   \n",
              "3    Male   27    1.80    87.0                             no   no   3.0  3.0   \n",
              "4    Male   22    1.78    89.8                             no   no   2.0  1.0   \n",
              "\n",
              "        CAEC SMOKE  CH2O  SCC  FAF  TUE        CALC                 MTRANS  \\\n",
              "0  Sometimes    no   2.0   no  0.0  1.0          no  Public_Transportation   \n",
              "1  Sometimes   yes   3.0  yes  3.0  0.0   Sometimes  Public_Transportation   \n",
              "2  Sometimes    no   2.0   no  2.0  1.0  Frequently  Public_Transportation   \n",
              "3  Sometimes    no   2.0   no  2.0  0.0  Frequently                Walking   \n",
              "4  Sometimes    no   2.0   no  0.0  0.0   Sometimes  Public_Transportation   \n",
              "\n",
              "            NObeyesdad     Age_Group  \n",
              "0        Normal_Weight  (19.0, 22.0]  \n",
              "1        Normal_Weight  (19.0, 22.0]  \n",
              "2        Normal_Weight  (22.0, 26.0]  \n",
              "3   Overweight_Level_I  (26.0, 61.0]  \n",
              "4  Overweight_Level_II  (19.0, 22.0]  "
            ]
          },
          "execution_count": 67,
          "metadata": {},
          "output_type": "execute_result"
        }
      ],
      "source": [
        "df.head()"
      ]
    },
    {
      "cell_type": "code",
      "execution_count": 17,
      "metadata": {
        "colab": {
          "base_uri": "https://localhost:8080/",
          "height": 612
        },
        "id": "ljvABnDMrvCX",
        "outputId": "f9157ca3-964b-4124-9b4e-3f18f194bcd8"
      },
      "outputs": [
        {
          "data": {
            "text/plain": [
              "<matplotlib.axes._subplots.AxesSubplot at 0x7f9853cbcb10>"
            ]
          },
          "execution_count": 17,
          "metadata": {
            "tags": []
          },
          "output_type": "execute_result"
        },
        {
          "data": {
            "image/png": "[encoded data removed]",
            "text/plain": [
              "<Figure size 864x720 with 2 Axes>"
            ]
          },
          "metadata": {
            "needs_background": "light",
            "tags": []
          },
          "output_type": "display_data"
        }
      ],
      "source": [
        "plt.figure(figsize = (12, 10))\n",
        "sns.heatmap(df.corr(), annot= True)"
      ]
    },
    {
      "cell_type": "markdown",
      "metadata": {
        "id": "RBcGl3gWVsJ7"
      },
      "source": [
        "#### Since, the Age and TUE features illustrate high correlation in the above heatmap, we can drop the TUE feature."
      ]
    },
    {
      "cell_type": "code",
      "execution_count": 68,
      "metadata": {
        "id": "9M39sTVVfRz-"
      },
      "outputs": [],
      "source": [
        "df.drop(['TUE'], axis=1,inplace=True)"
      ]
    },
    {
      "cell_type": "markdown",
      "metadata": {},
      "source": [
        "## Scaling and Encoding the data"
      ]
    },
    {
      "cell_type": "code",
      "execution_count": 69,
      "metadata": {
        "id": "uv6tNIEUzI8x"
      },
      "outputs": [],
      "source": [
        "from sklearn.preprocessing import  MinMaxScaler\n",
        "mn=MinMaxScaler()"
      ]
    },
    {
      "cell_type": "code",
      "execution_count": 71,
      "metadata": {
        "colab": {
          "base_uri": "https://localhost:8080/"
        },
        "id": "c7x0KzSa0V38",
        "outputId": "17102518-2fb4-421e-8957-09ef8c2f14f8"
      },
      "outputs": [
        {
          "name": "stdout",
          "output_type": "stream",
          "text": [
            "<class 'pandas.core.frame.DataFrame'>\n",
            "RangeIndex: 2111 entries, 0 to 2110\n",
            "Data columns (total 17 columns):\n",
            " #   Column                          Non-Null Count  Dtype   \n",
            "---  ------                          --------------  -----   \n",
            " 0   Gender                          2111 non-null   object  \n",
            " 1   Age                             2111 non-null   int64   \n",
            " 2   Height                          2111 non-null   float64 \n",
            " 3   Weight                          2111 non-null   float64 \n",
            " 4   family_history_with_overweight  2111 non-null   object  \n",
            " 5   FAVC                            2111 non-null   object  \n",
            " 6   FCVC                            2111 non-null   float64 \n",
            " 7   NCP                             2111 non-null   float64 \n",
            " 8   CAEC                            2111 non-null   object  \n",
            " 9   SMOKE                           2111 non-null   object  \n",
            " 10  CH2O                            2111 non-null   float64 \n",
            " 11  SCC                             2111 non-null   object  \n",
            " 12  FAF                             2111 non-null   float64 \n",
            " 13  CALC                            2111 non-null   object  \n",
            " 14  MTRANS                          2111 non-null   object  \n",
            " 15  NObeyesdad                      2111 non-null   object  \n",
            " 16  Age_Group                       2111 non-null   category\n",
            "dtypes: category(1), float64(6), int64(1), object(9)\n",
            "memory usage: 266.3+ KB\n"
          ]
        }
      ],
      "source": [
        "df.info()"
      ]
    },
    {
      "cell_type": "code",
      "execution_count": 72,
      "metadata": {
        "id": "se-3Y2vKztyt"
      },
      "outputs": [],
      "source": [
        "df[['Age']] = mn.fit_transform(df[['Age']])\n",
        "df[['Weight']] = mn.fit_transform(df[['Weight']])\n",
        "df[['FCVC']] = mn.fit_transform(df[['FCVC']])\n",
        "df[['NCP']] = mn.fit_transform(df[['NCP']])\n",
        "df[['CH2O']] = mn.fit_transform(df[['CH2O']])\n",
        "df[['FAF']] = mn.fit_transform(df[['FAF']])"
      ]
    },
    {
      "cell_type": "code",
      "execution_count": 78,
      "metadata": {
        "id": "OK5wj2YV1cb-"
      },
      "outputs": [],
      "source": [
        "df_standardized = df[['Age', 'Weight', 'FCVC', 'NCP','CH2O', 'FAF']]"
      ]
    },
    {
      "cell_type": "code",
      "execution_count": 79,
      "metadata": {
        "id": "zhGm7EBSiIXd"
      },
      "outputs": [],
      "source": [
        "df_unique = df.nunique().to_frame().reset_index()\n",
        "df_unique.columns = ['Variable','DistinctCount']"
      ]
    },
    {
      "cell_type": "code",
      "execution_count": 80,
      "metadata": {
        "colab": {
          "base_uri": "https://localhost:8080/"
        },
        "id": "gZntS8PliY-x",
        "outputId": "ec130198-25a1-42d1-aae6-4dd3ba4ca8a6"
      },
      "outputs": [
        {
          "name": "stdout",
          "output_type": "stream",
          "text": [
            "                          Variable  DistinctCount\n",
            "0                           Gender              2\n",
            "1                              Age             40\n",
            "2                           Height           1574\n",
            "3                           Weight           1525\n",
            "4   family_history_with_overweight              2\n",
            "5                             FAVC              2\n",
            "6                             FCVC            810\n",
            "7                              NCP            635\n",
            "8                             CAEC              4\n",
            "9                            SMOKE              2\n",
            "10                            CH2O           1268\n",
            "11                             SCC              2\n",
            "12                             FAF           1190\n",
            "13                            CALC              4\n",
            "14                          MTRANS              5\n",
            "15                      NObeyesdad              7\n",
            "16                       Age_Group              4\n"
          ]
        }
      ],
      "source": [
        "print(df_unique)"
      ]
    },
    {
      "cell_type": "code",
      "execution_count": 81,
      "metadata": {
        "id": "8194x7OC2BwH"
      },
      "outputs": [],
      "source": [
        "df_onehotencoded = pd.get_dummies(df[[\"Gender\", \"family_history_with_overweight\", \"FAVC\", \"CAEC\", \"SMOKE\", \"SCC\", \"CALC\", \"MTRANS\", 'NObeyesdad','Age_Group']])"
      ]
    },
    {
      "cell_type": "code",
      "execution_count": 82,
      "metadata": {
        "id": "HYzVb-eg2K_x"
      },
      "outputs": [],
      "source": [
        "df2 = pd.concat([df_standardized, df_onehotencoded], axis=1)"
      ]
    },
    {
      "cell_type": "code",
      "execution_count": 83,
      "metadata": {
        "colab": {
          "base_uri": "https://localhost:8080/",
          "height": 241
        },
        "id": "A4Jqx9hy2XQv",
        "outputId": "d381bac2-9dd1-4c5a-96ed-42c9cf4427f0"
      },
      "outputs": [
        {
          "data": {
            "text/html": [
              "<div>\n",
              "<style scoped>\n",
              "    .dataframe tbody tr th:only-of-type {\n",
              "        vertical-align: middle;\n",
              "    }\n",
              "\n",
              "    .dataframe tbody tr th {\n",
              "        vertical-align: top;\n",
              "    }\n",
              "\n",
              "    .dataframe thead th {\n",
              "        text-align: right;\n",
              "    }\n",
              "</style>\n",
              "<table border=\"1\" class=\"dataframe\">\n",
              "  <thead>\n",
              "    <tr style=\"text-align: right;\">\n",
              "      <th></th>\n",
              "      <th>Age</th>\n",
              "      <th>Weight</th>\n",
              "      <th>FCVC</th>\n",
              "      <th>NCP</th>\n",
              "      <th>CH2O</th>\n",
              "      <th>FAF</th>\n",
              "      <th>Gender_Female</th>\n",
              "      <th>Gender_Male</th>\n",
              "      <th>family_history_with_overweight_no</th>\n",
              "      <th>family_history_with_overweight_yes</th>\n",
              "      <th>...</th>\n",
              "      <th>NObeyesdad_Normal_Weight</th>\n",
              "      <th>NObeyesdad_Obesity_Type_I</th>\n",
              "      <th>NObeyesdad_Obesity_Type_II</th>\n",
              "      <th>NObeyesdad_Obesity_Type_III</th>\n",
              "      <th>NObeyesdad_Overweight_Level_I</th>\n",
              "      <th>NObeyesdad_Overweight_Level_II</th>\n",
              "      <th>Age_Group_(13.999, 19.0]</th>\n",
              "      <th>Age_Group_(19.0, 22.0]</th>\n",
              "      <th>Age_Group_(22.0, 26.0]</th>\n",
              "      <th>Age_Group_(26.0, 61.0]</th>\n",
              "    </tr>\n",
              "  </thead>\n",
              "  <tbody>\n",
              "    <tr>\n",
              "      <th>0</th>\n",
              "      <td>0.148936</td>\n",
              "      <td>0.186567</td>\n",
              "      <td>0.5</td>\n",
              "      <td>0.666667</td>\n",
              "      <td>0.5</td>\n",
              "      <td>0.000000</td>\n",
              "      <td>True</td>\n",
              "      <td>False</td>\n",
              "      <td>False</td>\n",
              "      <td>True</td>\n",
              "      <td>...</td>\n",
              "      <td>True</td>\n",
              "      <td>False</td>\n",
              "      <td>False</td>\n",
              "      <td>False</td>\n",
              "      <td>False</td>\n",
              "      <td>False</td>\n",
              "      <td>False</td>\n",
              "      <td>True</td>\n",
              "      <td>False</td>\n",
              "      <td>False</td>\n",
              "    </tr>\n",
              "    <tr>\n",
              "      <th>1</th>\n",
              "      <td>0.148936</td>\n",
              "      <td>0.126866</td>\n",
              "      <td>1.0</td>\n",
              "      <td>0.666667</td>\n",
              "      <td>1.0</td>\n",
              "      <td>1.000000</td>\n",
              "      <td>True</td>\n",
              "      <td>False</td>\n",
              "      <td>False</td>\n",
              "      <td>True</td>\n",
              "      <td>...</td>\n",
              "      <td>True</td>\n",
              "      <td>False</td>\n",
              "      <td>False</td>\n",
              "      <td>False</td>\n",
              "      <td>False</td>\n",
              "      <td>False</td>\n",
              "      <td>False</td>\n",
              "      <td>True</td>\n",
              "      <td>False</td>\n",
              "      <td>False</td>\n",
              "    </tr>\n",
              "    <tr>\n",
              "      <th>2</th>\n",
              "      <td>0.191489</td>\n",
              "      <td>0.283582</td>\n",
              "      <td>0.5</td>\n",
              "      <td>0.666667</td>\n",
              "      <td>0.5</td>\n",
              "      <td>0.666667</td>\n",
              "      <td>False</td>\n",
              "      <td>True</td>\n",
              "      <td>False</td>\n",
              "      <td>True</td>\n",
              "      <td>...</td>\n",
              "      <td>True</td>\n",
              "      <td>False</td>\n",
              "      <td>False</td>\n",
              "      <td>False</td>\n",
              "      <td>False</td>\n",
              "      <td>False</td>\n",
              "      <td>False</td>\n",
              "      <td>False</td>\n",
              "      <td>True</td>\n",
              "      <td>False</td>\n",
              "    </tr>\n",
              "    <tr>\n",
              "      <th>3</th>\n",
              "      <td>0.276596</td>\n",
              "      <td>0.358209</td>\n",
              "      <td>1.0</td>\n",
              "      <td>0.666667</td>\n",
              "      <td>0.5</td>\n",
              "      <td>0.666667</td>\n",
              "      <td>False</td>\n",
              "      <td>True</td>\n",
              "      <td>True</td>\n",
              "      <td>False</td>\n",
              "      <td>...</td>\n",
              "      <td>False</td>\n",
              "      <td>False</td>\n",
              "      <td>False</td>\n",
              "      <td>False</td>\n",
              "      <td>True</td>\n",
              "      <td>False</td>\n",
              "      <td>False</td>\n",
              "      <td>False</td>\n",
              "      <td>False</td>\n",
              "      <td>True</td>\n",
              "    </tr>\n",
              "    <tr>\n",
              "      <th>4</th>\n",
              "      <td>0.170213</td>\n",
              "      <td>0.379104</td>\n",
              "      <td>0.5</td>\n",
              "      <td>0.000000</td>\n",
              "      <td>0.5</td>\n",
              "      <td>0.000000</td>\n",
              "      <td>False</td>\n",
              "      <td>True</td>\n",
              "      <td>True</td>\n",
              "      <td>False</td>\n",
              "      <td>...</td>\n",
              "      <td>False</td>\n",
              "      <td>False</td>\n",
              "      <td>False</td>\n",
              "      <td>False</td>\n",
              "      <td>False</td>\n",
              "      <td>True</td>\n",
              "      <td>False</td>\n",
              "      <td>True</td>\n",
              "      <td>False</td>\n",
              "      <td>False</td>\n",
              "    </tr>\n",
              "  </tbody>\n",
              "</table>\n",
              "<p>5 rows × 40 columns</p>\n",
              "</div>"
            ],
            "text/plain": [
              "        Age    Weight  FCVC       NCP  CH2O       FAF  Gender_Female  \\\n",
              "0  0.148936  0.186567   0.5  0.666667   0.5  0.000000           True   \n",
              "1  0.148936  0.126866   1.0  0.666667   1.0  1.000000           True   \n",
              "2  0.191489  0.283582   0.5  0.666667   0.5  0.666667          False   \n",
              "3  0.276596  0.358209   1.0  0.666667   0.5  0.666667          False   \n",
              "4  0.170213  0.379104   0.5  0.000000   0.5  0.000000          False   \n",
              "\n",
              "   Gender_Male  family_history_with_overweight_no  \\\n",
              "0        False                              False   \n",
              "1        False                              False   \n",
              "2         True                              False   \n",
              "3         True                               True   \n",
              "4         True                               True   \n",
              "\n",
              "   family_history_with_overweight_yes  ...  NObeyesdad_Normal_Weight  \\\n",
              "0                                True  ...                      True   \n",
              "1                                True  ...                      True   \n",
              "2                                True  ...                      True   \n",
              "3                               False  ...                     False   \n",
              "4                               False  ...                     False   \n",
              "\n",
              "   NObeyesdad_Obesity_Type_I  NObeyesdad_Obesity_Type_II  \\\n",
              "0                      False                       False   \n",
              "1                      False                       False   \n",
              "2                      False                       False   \n",
              "3                      False                       False   \n",
              "4                      False                       False   \n",
              "\n",
              "   NObeyesdad_Obesity_Type_III  NObeyesdad_Overweight_Level_I  \\\n",
              "0                        False                          False   \n",
              "1                        False                          False   \n",
              "2                        False                          False   \n",
              "3                        False                           True   \n",
              "4                        False                          False   \n",
              "\n",
              "   NObeyesdad_Overweight_Level_II  Age_Group_(13.999, 19.0]  \\\n",
              "0                           False                     False   \n",
              "1                           False                     False   \n",
              "2                           False                     False   \n",
              "3                           False                     False   \n",
              "4                            True                     False   \n",
              "\n",
              "   Age_Group_(19.0, 22.0]  Age_Group_(22.0, 26.0]  Age_Group_(26.0, 61.0]  \n",
              "0                    True                   False                   False  \n",
              "1                    True                   False                   False  \n",
              "2                   False                    True                   False  \n",
              "3                   False                   False                    True  \n",
              "4                    True                   False                   False  \n",
              "\n",
              "[5 rows x 40 columns]"
            ]
          },
          "execution_count": 83,
          "metadata": {},
          "output_type": "execute_result"
        }
      ],
      "source": [
        "df2.head()"
      ]
    },
    {
      "cell_type": "markdown",
      "metadata": {
        "id": "N4gVgKtYkgBz"
      },
      "source": [
        "##### Since Columns Gender, family_history_with_overweight, FAVC, SMOKE and SCC have only two categories, we can use the binary values of categories and drop one of the columns of the one hot encoded data."
      ]
    },
    {
      "cell_type": "code",
      "execution_count": 84,
      "metadata": {
        "colab": {
          "base_uri": "https://localhost:8080/"
        },
        "id": "CPvxmTj5l_0B",
        "outputId": "69e9f4c0-c2e1-4ddf-d1ac-896a63799a4f"
      },
      "outputs": [
        {
          "data": {
            "text/plain": [
              "Index(['Age', 'Weight', 'FCVC', 'NCP', 'CH2O', 'FAF', 'Gender_Female',\n",
              "       'Gender_Male', 'family_history_with_overweight_no',\n",
              "       'family_history_with_overweight_yes', 'FAVC_no', 'FAVC_yes',\n",
              "       'CAEC_Always', 'CAEC_Frequently', 'CAEC_Sometimes', 'CAEC_no',\n",
              "       'SMOKE_no', 'SMOKE_yes', 'SCC_no', 'SCC_yes', 'CALC_Always',\n",
              "       'CALC_Frequently', 'CALC_Sometimes', 'CALC_no', 'MTRANS_Automobile',\n",
              "       'MTRANS_Bike', 'MTRANS_Motorbike', 'MTRANS_Public_Transportation',\n",
              "       'MTRANS_Walking', 'NObeyesdad_Insufficient_Weight',\n",
              "       'NObeyesdad_Normal_Weight', 'NObeyesdad_Obesity_Type_I',\n",
              "       'NObeyesdad_Obesity_Type_II', 'NObeyesdad_Obesity_Type_III',\n",
              "       'NObeyesdad_Overweight_Level_I', 'NObeyesdad_Overweight_Level_II',\n",
              "       'Age_Group_(13.999, 19.0]', 'Age_Group_(19.0, 22.0]',\n",
              "       'Age_Group_(22.0, 26.0]', 'Age_Group_(26.0, 61.0]'],\n",
              "      dtype='object')"
            ]
          },
          "execution_count": 84,
          "metadata": {},
          "output_type": "execute_result"
        }
      ],
      "source": [
        "df2.columns"
      ]
    },
    {
      "cell_type": "code",
      "execution_count": 85,
      "metadata": {
        "id": "vWprgEHzkfZ9"
      },
      "outputs": [],
      "source": [
        "df2.drop([\"Gender_Male\", \"family_history_with_overweight_no\", \"FAVC_no\",'SMOKE_no',\"SCC_no\"], axis=1,inplace=True)"
      ]
    },
    {
      "cell_type": "code",
      "execution_count": 86,
      "metadata": {
        "colab": {
          "base_uri": "https://localhost:8080/"
        },
        "id": "pp3mVdgS2sUk",
        "outputId": "fcd864f5-c2d7-4fc3-e96d-7e1f292c6c72"
      },
      "outputs": [
        {
          "data": {
            "text/plain": [
              "Index(['Age', 'Weight', 'FCVC', 'NCP', 'CH2O', 'FAF', 'Gender_Female',\n",
              "       'family_history_with_overweight_yes', 'FAVC_yes', 'CAEC_Always',\n",
              "       'CAEC_Frequently', 'CAEC_Sometimes', 'CAEC_no', 'SMOKE_yes', 'SCC_yes',\n",
              "       'CALC_Always', 'CALC_Frequently', 'CALC_Sometimes', 'CALC_no',\n",
              "       'MTRANS_Automobile', 'MTRANS_Bike', 'MTRANS_Motorbike',\n",
              "       'MTRANS_Public_Transportation', 'MTRANS_Walking',\n",
              "       'NObeyesdad_Insufficient_Weight', 'NObeyesdad_Normal_Weight',\n",
              "       'NObeyesdad_Obesity_Type_I', 'NObeyesdad_Obesity_Type_II',\n",
              "       'NObeyesdad_Obesity_Type_III', 'NObeyesdad_Overweight_Level_I',\n",
              "       'NObeyesdad_Overweight_Level_II', 'Age_Group_(13.999, 19.0]',\n",
              "       'Age_Group_(19.0, 22.0]', 'Age_Group_(22.0, 26.0]',\n",
              "       'Age_Group_(26.0, 61.0]'],\n",
              "      dtype='object')"
            ]
          },
          "execution_count": 86,
          "metadata": {},
          "output_type": "execute_result"
        }
      ],
      "source": [
        "df2.columns"
      ]
    },
    {
      "cell_type": "code",
      "execution_count": 87,
      "metadata": {
        "id": "2_-8KN48mkgK"
      },
      "outputs": [],
      "source": [
        "df2 = df2.rename(columns={'Gender_Female': \"Gender\", 'family_history_with_overweight_yes': 'family_history_with_overweight','FAVC_yes':'FAVC','SMOKE_yes':'SMOKE','SCC_yes':\"SCC\"})"
      ]
    },
    {
      "cell_type": "code",
      "execution_count": 88,
      "metadata": {
        "colab": {
          "base_uri": "https://localhost:8080/"
        },
        "id": "oFc42QwY27M3",
        "outputId": "6b86eb23-7e81-4593-b98f-91ab1c088737"
      },
      "outputs": [
        {
          "name": "stdout",
          "output_type": "stream",
          "text": [
            "<class 'pandas.core.frame.DataFrame'>\n",
            "RangeIndex: 2111 entries, 0 to 2110\n",
            "Data columns (total 35 columns):\n",
            " #   Column                          Non-Null Count  Dtype  \n",
            "---  ------                          --------------  -----  \n",
            " 0   Age                             2111 non-null   float64\n",
            " 1   Weight                          2111 non-null   float64\n",
            " 2   FCVC                            2111 non-null   float64\n",
            " 3   NCP                             2111 non-null   float64\n",
            " 4   CH2O                            2111 non-null   float64\n",
            " 5   FAF                             2111 non-null   float64\n",
            " 6   Gender                          2111 non-null   bool   \n",
            " 7   family_history_with_overweight  2111 non-null   bool   \n",
            " 8   FAVC                            2111 non-null   bool   \n",
            " 9   CAEC_Always                     2111 non-null   bool   \n",
            " 10  CAEC_Frequently                 2111 non-null   bool   \n",
            " 11  CAEC_Sometimes                  2111 non-null   bool   \n",
            " 12  CAEC_no                         2111 non-null   bool   \n",
            " 13  SMOKE                           2111 non-null   bool   \n",
            " 14  SCC                             2111 non-null   bool   \n",
            " 15  CALC_Always                     2111 non-null   bool   \n",
            " 16  CALC_Frequently                 2111 non-null   bool   \n",
            " 17  CALC_Sometimes                  2111 non-null   bool   \n",
            " 18  CALC_no                         2111 non-null   bool   \n",
            " 19  MTRANS_Automobile               2111 non-null   bool   \n",
            " 20  MTRANS_Bike                     2111 non-null   bool   \n",
            " 21  MTRANS_Motorbike                2111 non-null   bool   \n",
            " 22  MTRANS_Public_Transportation    2111 non-null   bool   \n",
            " 23  MTRANS_Walking                  2111 non-null   bool   \n",
            " 24  NObeyesdad_Insufficient_Weight  2111 non-null   bool   \n",
            " 25  NObeyesdad_Normal_Weight        2111 non-null   bool   \n",
            " 26  NObeyesdad_Obesity_Type_I       2111 non-null   bool   \n",
            " 27  NObeyesdad_Obesity_Type_II      2111 non-null   bool   \n",
            " 28  NObeyesdad_Obesity_Type_III     2111 non-null   bool   \n",
            " 29  NObeyesdad_Overweight_Level_I   2111 non-null   bool   \n",
            " 30  NObeyesdad_Overweight_Level_II  2111 non-null   bool   \n",
            " 31  Age_Group_(13.999, 19.0]        2111 non-null   bool   \n",
            " 32  Age_Group_(19.0, 22.0]          2111 non-null   bool   \n",
            " 33  Age_Group_(22.0, 26.0]          2111 non-null   bool   \n",
            " 34  Age_Group_(26.0, 61.0]          2111 non-null   bool   \n",
            "dtypes: bool(29), float64(6)\n",
            "memory usage: 158.9 KB\n"
          ]
        }
      ],
      "source": [
        "df2.info()"
      ]
    },
    {
      "cell_type": "code",
      "execution_count": 89,
      "metadata": {
        "id": "89-A8K3X6VIq"
      },
      "outputs": [],
      "source": [
        "df2 = df2.astype(\"float\")"
      ]
    },
    {
      "cell_type": "code",
      "execution_count": 90,
      "metadata": {
        "colab": {
          "base_uri": "https://localhost:8080/"
        },
        "id": "LkqFAU4X6hDI",
        "outputId": "ba773066-cb6c-4f11-a356-36945df0b506"
      },
      "outputs": [
        {
          "name": "stdout",
          "output_type": "stream",
          "text": [
            "<class 'pandas.core.frame.DataFrame'>\n",
            "RangeIndex: 2111 entries, 0 to 2110\n",
            "Data columns (total 35 columns):\n",
            " #   Column                          Non-Null Count  Dtype  \n",
            "---  ------                          --------------  -----  \n",
            " 0   Age                             2111 non-null   float64\n",
            " 1   Weight                          2111 non-null   float64\n",
            " 2   FCVC                            2111 non-null   float64\n",
            " 3   NCP                             2111 non-null   float64\n",
            " 4   CH2O                            2111 non-null   float64\n",
            " 5   FAF                             2111 non-null   float64\n",
            " 6   Gender                          2111 non-null   float64\n",
            " 7   family_history_with_overweight  2111 non-null   float64\n",
            " 8   FAVC                            2111 non-null   float64\n",
            " 9   CAEC_Always                     2111 non-null   float64\n",
            " 10  CAEC_Frequently                 2111 non-null   float64\n",
            " 11  CAEC_Sometimes                  2111 non-null   float64\n",
            " 12  CAEC_no                         2111 non-null   float64\n",
            " 13  SMOKE                           2111 non-null   float64\n",
            " 14  SCC                             2111 non-null   float64\n",
            " 15  CALC_Always                     2111 non-null   float64\n",
            " 16  CALC_Frequently                 2111 non-null   float64\n",
            " 17  CALC_Sometimes                  2111 non-null   float64\n",
            " 18  CALC_no                         2111 non-null   float64\n",
            " 19  MTRANS_Automobile               2111 non-null   float64\n",
            " 20  MTRANS_Bike                     2111 non-null   float64\n",
            " 21  MTRANS_Motorbike                2111 non-null   float64\n",
            " 22  MTRANS_Public_Transportation    2111 non-null   float64\n",
            " 23  MTRANS_Walking                  2111 non-null   float64\n",
            " 24  NObeyesdad_Insufficient_Weight  2111 non-null   float64\n",
            " 25  NObeyesdad_Normal_Weight        2111 non-null   float64\n",
            " 26  NObeyesdad_Obesity_Type_I       2111 non-null   float64\n",
            " 27  NObeyesdad_Obesity_Type_II      2111 non-null   float64\n",
            " 28  NObeyesdad_Obesity_Type_III     2111 non-null   float64\n",
            " 29  NObeyesdad_Overweight_Level_I   2111 non-null   float64\n",
            " 30  NObeyesdad_Overweight_Level_II  2111 non-null   float64\n",
            " 31  Age_Group_(13.999, 19.0]        2111 non-null   float64\n",
            " 32  Age_Group_(19.0, 22.0]          2111 non-null   float64\n",
            " 33  Age_Group_(22.0, 26.0]          2111 non-null   float64\n",
            " 34  Age_Group_(26.0, 61.0]          2111 non-null   float64\n",
            "dtypes: float64(35)\n",
            "memory usage: 577.4 KB\n"
          ]
        }
      ],
      "source": [
        "df2.info()"
      ]
    },
    {
      "cell_type": "code",
      "execution_count": 92,
      "metadata": {
        "id": "EwhPdf93p4WT"
      },
      "outputs": [],
      "source": [
        "df2.to_csv('/data/3_Data_Clean.csv', index=False)  "
      ]
    },
    {
      "cell_type": "code",
      "execution_count": null,
      "metadata": {},
      "outputs": [],
      "source": []
    }
  ],
  "metadata": {
    "colab": {
      "collapsed_sections": [],
      "name": "503_Data_Cleaning.ipynb",
      "provenance": []
    },
    "kernelspec": {
      "display_name": "Python 3",
      "name": "python3"
    },
    "language_info": {
      "name": "python",
      "version": "3.9.18"
    }
  },
  "nbformat": 4,
  "nbformat_minor": 0
}
